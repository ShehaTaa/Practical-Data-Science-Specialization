{
 "cells": [
  {
   "cell_type": "markdown",
   "metadata": {},
   "source": [
    "# Register and visualize dataset\n",
    "\n",
    "### Introduction\n",
    "\n",
    "In this lab you will ingest and transform the customer product reviews dataset. Then you will use AWS data stack services such as AWS Glue and Amazon Athena for ingesting and querying the dataset. Finally you will use AWS Data Wrangler to analyze the dataset and plot some visuals extracting insights."
   ]
  },
  {
   "cell_type": "markdown",
   "metadata": {},
   "source": [
    "### Table of Contents\n",
    "\n",
    "- [1. Ingest and transform the public dataset](#c1w1-1.)\n",
    "  - [1.1. List the dataset files in the public S3 bucket](#c1w1-1.1.)\n",
    "    - [Exercise 1](#c1w1-ex-1)\n",
    "  - [1.2. Copy the data locally to the notebook](#c1w1-1.2.)\n",
    "  - [1.3. Transform the data](#c1w1-1.3.)\n",
    "  - [1.4 Write the data to a CSV file](#c1w1-1.4.)\n",
    "- [2. Register the public dataset for querying and visualizing](#c1w1-2.)\n",
    "  - [2.1. Register S3 dataset files as a table for querying](#c1w1-2.1.)\n",
    "    - [Exercise 2](#c1w1-ex-2)\n",
    "  - [2.2. Create default S3 bucket for Amazon Athena](#c1w1-2.2.)\n",
    "- [3. Visualize data](#c1w1-3.)\n",
    "  - [3.1. Preparation for data visualization](#c1w1-3.1.)\n",
    "  - [3.2. How many reviews per sentiment?](#c1w1-3.2.)\n",
    "    - [Exercise 3](#c1w1-ex-3)\n",
    "  - [3.3. Which product categories are highest rated by average sentiment?](#c1w1-3.3.)\n",
    "  - [3.4. Which product categories have the most reviews?](#c1w1-3.4.)\n",
    "    - [Exercise 4](#c1w1-ex-4)\n",
    "  - [3.5. What is the breakdown of sentiments per product category?](#c1w1-3.5.)\n",
    "  - [3.6. Analyze the distribution of review word counts](#c1w1-3.6.)"
   ]
  },
  {
   "cell_type": "markdown",
   "metadata": {},
   "source": [
    "Let's install the required modules first."
   ]
  },
  {
   "cell_type": "code",
   "execution_count": 2,
   "metadata": {},
   "outputs": [
    {
     "name": "stdout",
     "output_type": "stream",
     "text": [
      "/opt/conda/lib/python3.7/site-packages/secretstorage/dhcrypto.py:16: CryptographyDeprecationWarning: int_from_bytes is deprecated, use int.from_bytes instead\n",
      "  from cryptography.utils import int_from_bytes\n",
      "/opt/conda/lib/python3.7/site-packages/secretstorage/util.py:25: CryptographyDeprecationWarning: int_from_bytes is deprecated, use int.from_bytes instead\n",
      "  from cryptography.utils import int_from_bytes\n",
      "\u001b[33mWARNING: Running pip as the 'root' user can result in broken permissions and conflicting behaviour with the system package manager. It is recommended to use a virtual environment instead: https://pip.pypa.io/warnings/venv\u001b[0m\n",
      "/opt/conda/lib/python3.7/site-packages/secretstorage/dhcrypto.py:16: CryptographyDeprecationWarning: int_from_bytes is deprecated, use int.from_bytes instead\n",
      "  from cryptography.utils import int_from_bytes\n",
      "/opt/conda/lib/python3.7/site-packages/secretstorage/util.py:25: CryptographyDeprecationWarning: int_from_bytes is deprecated, use int.from_bytes instead\n",
      "  from cryptography.utils import int_from_bytes\n",
      "\u001b[33mWARNING: Running pip as the 'root' user can result in broken permissions and conflicting behaviour with the system package manager. It is recommended to use a virtual environment instead: https://pip.pypa.io/warnings/venv\u001b[0m\n",
      "/opt/conda/lib/python3.7/site-packages/secretstorage/dhcrypto.py:16: CryptographyDeprecationWarning: int_from_bytes is deprecated, use int.from_bytes instead\n",
      "  from cryptography.utils import int_from_bytes\n",
      "/opt/conda/lib/python3.7/site-packages/secretstorage/util.py:25: CryptographyDeprecationWarning: int_from_bytes is deprecated, use int.from_bytes instead\n",
      "  from cryptography.utils import int_from_bytes\n",
      "\u001b[33mWARNING: Running pip as the 'root' user can result in broken permissions and conflicting behaviour with the system package manager. It is recommended to use a virtual environment instead: https://pip.pypa.io/warnings/venv\u001b[0m\n",
      "/opt/conda/lib/python3.7/site-packages/secretstorage/dhcrypto.py:16: CryptographyDeprecationWarning: int_from_bytes is deprecated, use int.from_bytes instead\n",
      "  from cryptography.utils import int_from_bytes\n",
      "/opt/conda/lib/python3.7/site-packages/secretstorage/util.py:25: CryptographyDeprecationWarning: int_from_bytes is deprecated, use int.from_bytes instead\n",
      "  from cryptography.utils import int_from_bytes\n",
      "\u001b[33mWARNING: Running pip as the 'root' user can result in broken permissions and conflicting behaviour with the system package manager. It is recommended to use a virtual environment instead: https://pip.pypa.io/warnings/venv\u001b[0m\n",
      "/opt/conda/lib/python3.7/site-packages/secretstorage/dhcrypto.py:16: CryptographyDeprecationWarning: int_from_bytes is deprecated, use int.from_bytes instead\n",
      "  from cryptography.utils import int_from_bytes\n",
      "/opt/conda/lib/python3.7/site-packages/secretstorage/util.py:25: CryptographyDeprecationWarning: int_from_bytes is deprecated, use int.from_bytes instead\n",
      "  from cryptography.utils import int_from_bytes\n",
      "\u001b[33mWARNING: Running pip as the 'root' user can result in broken permissions and conflicting behaviour with the system package manager. It is recommended to use a virtual environment instead: https://pip.pypa.io/warnings/venv\u001b[0m\n",
      "/opt/conda/lib/python3.7/site-packages/secretstorage/dhcrypto.py:16: CryptographyDeprecationWarning: int_from_bytes is deprecated, use int.from_bytes instead\n",
      "  from cryptography.utils import int_from_bytes\n",
      "/opt/conda/lib/python3.7/site-packages/secretstorage/util.py:25: CryptographyDeprecationWarning: int_from_bytes is deprecated, use int.from_bytes instead\n",
      "  from cryptography.utils import int_from_bytes\n",
      "\u001b[33mWARNING: Running pip as the 'root' user can result in broken permissions and conflicting behaviour with the system package manager. It is recommended to use a virtual environment instead: https://pip.pypa.io/warnings/venv\u001b[0m\n"
     ]
    }
   ],
   "source": [
    "# please ignore warning messages during the installation\n",
    "!pip install --disable-pip-version-check -q sagemaker==2.35.0\n",
    "!pip install --disable-pip-version-check -q pandas==1.1.4\n",
    "!pip install --disable-pip-version-check -q awswrangler==2.7.0\n",
    "!pip install --disable-pip-version-check -q numpy==1.18.5\n",
    "!pip install --disable-pip-version-check -q seaborn==0.11.0\n",
    "!pip install --disable-pip-version-check -q matplotlib===3.3.3"
   ]
  },
  {
   "cell_type": "markdown",
   "metadata": {},
   "source": [
    "<a name='c1w1-1.'></a>\n",
    "# 1. Ingest and transform the public dataset\n",
    "\n",
    "The dataset [Women's Clothing Reviews](https://www.kaggle.com/nicapotato/womens-ecommerce-clothing-reviews) has been chosen as the main dataset.\n",
    "\n",
    "It is shared in a public Amazon S3 bucket, and is available as a comma-separated value (CSV) text format:\n",
    "\n",
    "`s3://dlai-practical-data-science/data/raw/womens_clothing_ecommerce_reviews.csv`"
   ]
  },
  {
   "cell_type": "markdown",
   "metadata": {},
   "source": [
    "<a name='c1w1-1.1.'></a>\n",
    "### 1.1. List the dataset files in the public S3 bucket\n",
    "\n",
    "The [AWS Command Line Interface (CLI)](https://awscli.amazonaws.com/v2/documentation/api/latest/index.html) is a unified tool to manage your AWS services. With just one tool, you can control multiple AWS services from the command line and automate them through scripts. You will use it to list the dataset files."
   ]
  },
  {
   "cell_type": "markdown",
   "metadata": {},
   "source": [
    "**View dataset files in CSV format**"
   ]
  },
  {
   "cell_type": "markdown",
   "metadata": {},
   "source": [
    "```aws s3 ls [bucket_name]``` function lists all objects in the S3 bucket. Let's use it to view the reviews data files in CSV format:"
   ]
  },
  {
   "cell_type": "markdown",
   "metadata": {},
   "source": [
    "<a name='c1w1-ex-1'></a>\n",
    "### Exercise 1\n",
    "\n",
    "View the list of the files available in the public bucket `s3://dlai-practical-data-science/data/raw/`.\n",
    "\n",
    "**Instructions**:\n",
    "Use `aws s3 ls [bucket_name]` function. To run the AWS CLI command from the notebook you will need to put an exclamation mark in front of it: `!aws`. You should see the data file `womens_clothing_ecommerce_reviews.csv` in the list."
   ]
  },
  {
   "cell_type": "code",
   "execution_count": 4,
   "metadata": {},
   "outputs": [
    {
     "name": "stdout",
     "output_type": "stream",
     "text": [
      "2021-04-30 02:21:06    8457214 womens_clothing_ecommerce_reviews.csv\n"
     ]
    }
   ],
   "source": [
    "### BEGIN SOLUTION - DO NOT delete this comment for grading purposes\n",
    "!aws s3 ls s3://dlai-practical-data-science/data/raw/ # Replace None\n",
    "### END SOLUTION - DO NOT delete this comment for grading purposes\n",
    "\n",
    "# EXPECTED OUTPUT\n",
    "# ... womens_clothing_ecommerce_reviews.csv"
   ]
  },
  {
   "cell_type": "markdown",
   "metadata": {},
   "source": [
    "<a name='c1w1-1.2.'></a>\n",
    "### 1.2. Copy the data locally to the notebook"
   ]
  },
  {
   "cell_type": "markdown",
   "metadata": {},
   "source": [
    "```aws s3 cp [bucket_name/file_name] [file_name]``` function copies the file from the S3 bucket into the local environment or into another S3 bucket. Let's use it to copy the file with the dataset locally."
   ]
  },
  {
   "cell_type": "code",
   "execution_count": 5,
   "metadata": {},
   "outputs": [
    {
     "name": "stdout",
     "output_type": "stream",
     "text": [
      "download: s3://dlai-practical-data-science/data/raw/womens_clothing_ecommerce_reviews.csv to ./womens_clothing_ecommerce_reviews.csv\n"
     ]
    }
   ],
   "source": [
    "!aws s3 cp s3://dlai-practical-data-science/data/raw/womens_clothing_ecommerce_reviews.csv ./womens_clothing_ecommerce_reviews.csv"
   ]
  },
  {
   "cell_type": "markdown",
   "metadata": {},
   "source": [
    "Now use the Pandas dataframe to load and preview the data."
   ]
  },
  {
   "cell_type": "code",
   "execution_count": 6,
   "metadata": {},
   "outputs": [
    {
     "data": {
      "text/plain": [
       "(23486, 10)"
      ]
     },
     "execution_count": 6,
     "metadata": {},
     "output_type": "execute_result"
    }
   ],
   "source": [
    "import pandas as pd\n",
    "import csv\n",
    "\n",
    "df = pd.read_csv('./womens_clothing_ecommerce_reviews.csv',\n",
    "                 index_col=0)\n",
    "\n",
    "df.shape"
   ]
  },
  {
   "cell_type": "code",
   "execution_count": 9,
   "metadata": {},
   "outputs": [
    {
     "data": {
      "text/html": [
       "<div>\n",
       "<style scoped>\n",
       "    .dataframe tbody tr th:only-of-type {\n",
       "        vertical-align: middle;\n",
       "    }\n",
       "\n",
       "    .dataframe tbody tr th {\n",
       "        vertical-align: top;\n",
       "    }\n",
       "\n",
       "    .dataframe thead th {\n",
       "        text-align: right;\n",
       "    }\n",
       "</style>\n",
       "<table border=\"1\" class=\"dataframe\">\n",
       "  <thead>\n",
       "    <tr style=\"text-align: right;\">\n",
       "      <th></th>\n",
       "      <th>Clothing ID</th>\n",
       "      <th>Age</th>\n",
       "      <th>Title</th>\n",
       "      <th>Review Text</th>\n",
       "      <th>Rating</th>\n",
       "      <th>Recommended IND</th>\n",
       "      <th>Positive Feedback Count</th>\n",
       "      <th>Division Name</th>\n",
       "      <th>Department Name</th>\n",
       "      <th>Class Name</th>\n",
       "    </tr>\n",
       "  </thead>\n",
       "  <tbody>\n",
       "    <tr>\n",
       "      <th>0</th>\n",
       "      <td>847</td>\n",
       "      <td>33</td>\n",
       "      <td>Cute, crisp shirt</td>\n",
       "      <td>If this product was in petite  i would get the...</td>\n",
       "      <td>4</td>\n",
       "      <td>1</td>\n",
       "      <td>2</td>\n",
       "      <td>General</td>\n",
       "      <td>Tops</td>\n",
       "      <td>Blouses</td>\n",
       "    </tr>\n",
       "    <tr>\n",
       "      <th>1</th>\n",
       "      <td>1080</td>\n",
       "      <td>34</td>\n",
       "      <td>NaN</td>\n",
       "      <td>Love this dress!  it's sooo pretty.  i happene...</td>\n",
       "      <td>5</td>\n",
       "      <td>1</td>\n",
       "      <td>4</td>\n",
       "      <td>General</td>\n",
       "      <td>Dresses</td>\n",
       "      <td>Dresses</td>\n",
       "    </tr>\n",
       "    <tr>\n",
       "      <th>2</th>\n",
       "      <td>1077</td>\n",
       "      <td>60</td>\n",
       "      <td>Some major design flaws</td>\n",
       "      <td>I had such high hopes for this dress and reall...</td>\n",
       "      <td>3</td>\n",
       "      <td>0</td>\n",
       "      <td>0</td>\n",
       "      <td>General</td>\n",
       "      <td>Dresses</td>\n",
       "      <td>Dresses</td>\n",
       "    </tr>\n",
       "    <tr>\n",
       "      <th>3</th>\n",
       "      <td>1049</td>\n",
       "      <td>50</td>\n",
       "      <td>My favorite buy!</td>\n",
       "      <td>I love  love  love this jumpsuit. it's fun  fl...</td>\n",
       "      <td>5</td>\n",
       "      <td>1</td>\n",
       "      <td>0</td>\n",
       "      <td>General Petite</td>\n",
       "      <td>Bottoms</td>\n",
       "      <td>Pants</td>\n",
       "    </tr>\n",
       "    <tr>\n",
       "      <th>4</th>\n",
       "      <td>847</td>\n",
       "      <td>47</td>\n",
       "      <td>Flattering shirt</td>\n",
       "      <td>This shirt is very flattering to all due to th...</td>\n",
       "      <td>5</td>\n",
       "      <td>1</td>\n",
       "      <td>6</td>\n",
       "      <td>General</td>\n",
       "      <td>Tops</td>\n",
       "      <td>Blouses</td>\n",
       "    </tr>\n",
       "  </tbody>\n",
       "</table>\n",
       "</div>"
      ],
      "text/plain": [
       "   Clothing ID  Age                    Title  \\\n",
       "0          847   33        Cute, crisp shirt   \n",
       "1         1080   34                      NaN   \n",
       "2         1077   60  Some major design flaws   \n",
       "3         1049   50         My favorite buy!   \n",
       "4          847   47         Flattering shirt   \n",
       "\n",
       "                                         Review Text  Rating  Recommended IND  \\\n",
       "0  If this product was in petite  i would get the...       4                1   \n",
       "1  Love this dress!  it's sooo pretty.  i happene...       5                1   \n",
       "2  I had such high hopes for this dress and reall...       3                0   \n",
       "3  I love  love  love this jumpsuit. it's fun  fl...       5                1   \n",
       "4  This shirt is very flattering to all due to th...       5                1   \n",
       "\n",
       "   Positive Feedback Count   Division Name Department Name Class Name  \n",
       "0                        2         General            Tops    Blouses  \n",
       "1                        4         General         Dresses    Dresses  \n",
       "2                        0         General         Dresses    Dresses  \n",
       "3                        0  General Petite         Bottoms      Pants  \n",
       "4                        6         General            Tops    Blouses  "
      ]
     },
     "execution_count": 9,
     "metadata": {},
     "output_type": "execute_result"
    }
   ],
   "source": [
    "df.head()"
   ]
  },
  {
   "cell_type": "code",
   "execution_count": 13,
   "metadata": {},
   "outputs": [
    {
     "data": {
      "text/plain": [
       "'Dress runs small esp where the zipper area runs. i ordered the sp which typically fits me and it was very tight! the material on the top looks and feels very cheap that even just pulling on it will cause it to rip the fabric. pretty disappointed as it was going to be my christmas dress this year! needless to say it will be going back.'"
      ]
     },
     "execution_count": 13,
     "metadata": {},
     "output_type": "execute_result"
    }
   ],
   "source": [
    "df['Review Text'].iloc[10]"
   ]
  },
  {
   "cell_type": "code",
   "execution_count": 14,
   "metadata": {},
   "outputs": [
    {
     "data": {
      "text/html": [
       "<div>\n",
       "<style scoped>\n",
       "    .dataframe tbody tr th:only-of-type {\n",
       "        vertical-align: middle;\n",
       "    }\n",
       "\n",
       "    .dataframe tbody tr th {\n",
       "        vertical-align: top;\n",
       "    }\n",
       "\n",
       "    .dataframe thead th {\n",
       "        text-align: right;\n",
       "    }\n",
       "</style>\n",
       "<table border=\"1\" class=\"dataframe\">\n",
       "  <thead>\n",
       "    <tr style=\"text-align: right;\">\n",
       "      <th></th>\n",
       "      <th>Clothing ID</th>\n",
       "      <th>Age</th>\n",
       "      <th>Rating</th>\n",
       "      <th>Recommended IND</th>\n",
       "      <th>Positive Feedback Count</th>\n",
       "    </tr>\n",
       "  </thead>\n",
       "  <tbody>\n",
       "    <tr>\n",
       "      <th>count</th>\n",
       "      <td>23486.000000</td>\n",
       "      <td>23486.000000</td>\n",
       "      <td>23486.000000</td>\n",
       "      <td>23486.000000</td>\n",
       "      <td>23486.000000</td>\n",
       "    </tr>\n",
       "    <tr>\n",
       "      <th>mean</th>\n",
       "      <td>918.118709</td>\n",
       "      <td>43.198544</td>\n",
       "      <td>4.196032</td>\n",
       "      <td>0.822362</td>\n",
       "      <td>2.535936</td>\n",
       "    </tr>\n",
       "    <tr>\n",
       "      <th>std</th>\n",
       "      <td>203.298980</td>\n",
       "      <td>12.279544</td>\n",
       "      <td>1.110031</td>\n",
       "      <td>0.382216</td>\n",
       "      <td>5.702202</td>\n",
       "    </tr>\n",
       "    <tr>\n",
       "      <th>min</th>\n",
       "      <td>0.000000</td>\n",
       "      <td>18.000000</td>\n",
       "      <td>1.000000</td>\n",
       "      <td>0.000000</td>\n",
       "      <td>0.000000</td>\n",
       "    </tr>\n",
       "    <tr>\n",
       "      <th>25%</th>\n",
       "      <td>861.000000</td>\n",
       "      <td>34.000000</td>\n",
       "      <td>4.000000</td>\n",
       "      <td>1.000000</td>\n",
       "      <td>0.000000</td>\n",
       "    </tr>\n",
       "    <tr>\n",
       "      <th>50%</th>\n",
       "      <td>936.000000</td>\n",
       "      <td>41.000000</td>\n",
       "      <td>5.000000</td>\n",
       "      <td>1.000000</td>\n",
       "      <td>1.000000</td>\n",
       "    </tr>\n",
       "    <tr>\n",
       "      <th>75%</th>\n",
       "      <td>1078.000000</td>\n",
       "      <td>52.000000</td>\n",
       "      <td>5.000000</td>\n",
       "      <td>1.000000</td>\n",
       "      <td>3.000000</td>\n",
       "    </tr>\n",
       "    <tr>\n",
       "      <th>max</th>\n",
       "      <td>1205.000000</td>\n",
       "      <td>99.000000</td>\n",
       "      <td>5.000000</td>\n",
       "      <td>1.000000</td>\n",
       "      <td>122.000000</td>\n",
       "    </tr>\n",
       "  </tbody>\n",
       "</table>\n",
       "</div>"
      ],
      "text/plain": [
       "        Clothing ID           Age        Rating  Recommended IND  \\\n",
       "count  23486.000000  23486.000000  23486.000000     23486.000000   \n",
       "mean     918.118709     43.198544      4.196032         0.822362   \n",
       "std      203.298980     12.279544      1.110031         0.382216   \n",
       "min        0.000000     18.000000      1.000000         0.000000   \n",
       "25%      861.000000     34.000000      4.000000         1.000000   \n",
       "50%      936.000000     41.000000      5.000000         1.000000   \n",
       "75%     1078.000000     52.000000      5.000000         1.000000   \n",
       "max     1205.000000     99.000000      5.000000         1.000000   \n",
       "\n",
       "       Positive Feedback Count  \n",
       "count             23486.000000  \n",
       "mean                  2.535936  \n",
       "std                   5.702202  \n",
       "min                   0.000000  \n",
       "25%                   0.000000  \n",
       "50%                   1.000000  \n",
       "75%                   3.000000  \n",
       "max                 122.000000  "
      ]
     },
     "execution_count": 14,
     "metadata": {},
     "output_type": "execute_result"
    }
   ],
   "source": [
    "df.describe()"
   ]
  },
  {
   "cell_type": "code",
   "execution_count": 58,
   "metadata": {},
   "outputs": [
    {
     "data": {
      "text/plain": [
       "<AxesSubplot:>"
      ]
     },
     "execution_count": 58,
     "metadata": {},
     "output_type": "execute_result"
    },
    {
     "data": {
      "image/png": "[encoded data removed]",
      "text/plain": [
       "<Figure size 432x288 with 1 Axes>"
      ]
     },
     "metadata": {
      "image/png": {
       "height": 250,
       "width": 390
      }
     },
     "output_type": "display_data"
    }
   ],
   "source": [
    "df['Rating'].value_counts().plot(kind='bar', x='Rating', y='Count_Rating', rot=0)"
   ]
  },
  {
   "cell_type": "markdown",
   "metadata": {},
   "source": [
    "<a name='c1w1-1.3.'></a>\n",
    "### 1.3. Transform the data\n",
    "To simplify the task, you will transform the data into a comma-separated value (CSV) file that contains only a `review_body`, `product_category`, and `sentiment` derived from the original data."
   ]
  },
  {
   "cell_type": "code",
   "execution_count": 19,
   "metadata": {},
   "outputs": [
    {
     "data": {
      "text/plain": [
       "(22628, 3)"
      ]
     },
     "execution_count": 19,
     "metadata": {},
     "output_type": "execute_result"
    }
   ],
   "source": [
    "# Change columns name\n",
    "df_transformed = df.rename(columns={'Review Text': 'review_body',\n",
    "                                    'Rating': 'star_rating',\n",
    "                                    'Class Name': 'product_category'})\n",
    "\n",
    "# Drop unwanted columns\n",
    "df_transformed.drop(columns=['Clothing ID',\n",
    "                             'Age',\n",
    "                             'Title',\n",
    "                             'Recommended IND',\n",
    "                             'Positive Feedback Count',\n",
    "                             'Division Name',\n",
    "                             'Department Name'],\n",
    "                    inplace=True)\n",
    "\n",
    "# drop na values\n",
    "df_transformed.dropna(inplace=True)\n",
    "\n",
    "df_transformed.shape"
   ]
  },
  {
   "cell_type": "code",
   "execution_count": 21,
   "metadata": {},
   "outputs": [
    {
     "data": {
      "text/html": [
       "<div>\n",
       "<style scoped>\n",
       "    .dataframe tbody tr th:only-of-type {\n",
       "        vertical-align: middle;\n",
       "    }\n",
       "\n",
       "    .dataframe tbody tr th {\n",
       "        vertical-align: top;\n",
       "    }\n",
       "\n",
       "    .dataframe thead th {\n",
       "        text-align: right;\n",
       "    }\n",
       "</style>\n",
       "<table border=\"1\" class=\"dataframe\">\n",
       "  <thead>\n",
       "    <tr style=\"text-align: right;\">\n",
       "      <th></th>\n",
       "      <th>review_body</th>\n",
       "      <th>star_rating</th>\n",
       "      <th>product_category</th>\n",
       "    </tr>\n",
       "  </thead>\n",
       "  <tbody>\n",
       "    <tr>\n",
       "      <th>0</th>\n",
       "      <td>If this product was in petite  i would get the...</td>\n",
       "      <td>4</td>\n",
       "      <td>Blouses</td>\n",
       "    </tr>\n",
       "    <tr>\n",
       "      <th>1</th>\n",
       "      <td>Love this dress!  it's sooo pretty.  i happene...</td>\n",
       "      <td>5</td>\n",
       "      <td>Dresses</td>\n",
       "    </tr>\n",
       "    <tr>\n",
       "      <th>2</th>\n",
       "      <td>I had such high hopes for this dress and reall...</td>\n",
       "      <td>3</td>\n",
       "      <td>Dresses</td>\n",
       "    </tr>\n",
       "    <tr>\n",
       "      <th>3</th>\n",
       "      <td>I love  love  love this jumpsuit. it's fun  fl...</td>\n",
       "      <td>5</td>\n",
       "      <td>Pants</td>\n",
       "    </tr>\n",
       "    <tr>\n",
       "      <th>4</th>\n",
       "      <td>This shirt is very flattering to all due to th...</td>\n",
       "      <td>5</td>\n",
       "      <td>Blouses</td>\n",
       "    </tr>\n",
       "  </tbody>\n",
       "</table>\n",
       "</div>"
      ],
      "text/plain": [
       "                                         review_body  star_rating  \\\n",
       "0  If this product was in petite  i would get the...            4   \n",
       "1  Love this dress!  it's sooo pretty.  i happene...            5   \n",
       "2  I had such high hopes for this dress and reall...            3   \n",
       "3  I love  love  love this jumpsuit. it's fun  fl...            5   \n",
       "4  This shirt is very flattering to all due to th...            5   \n",
       "\n",
       "  product_category  \n",
       "0          Blouses  \n",
       "1          Dresses  \n",
       "2          Dresses  \n",
       "3            Pants  \n",
       "4          Blouses  "
      ]
     },
     "execution_count": 21,
     "metadata": {},
     "output_type": "execute_result"
    }
   ],
   "source": [
    "df_transformed.head()"
   ]
  },
  {
   "cell_type": "code",
   "execution_count": 24,
   "metadata": {},
   "outputs": [
    {
     "data": {
      "text/plain": [
       "Dresses           6145\n",
       "Knits             4626\n",
       "Blouses           2983\n",
       "Sweaters          1380\n",
       "Pants             1350\n",
       "Jeans             1104\n",
       "Fine gauge        1059\n",
       "Skirts             903\n",
       "Jackets            683\n",
       "Lounge             669\n",
       "Swim               332\n",
       "Outerwear          319\n",
       "Shorts             304\n",
       "Sleep              214\n",
       "Legwear            158\n",
       "Intimates          147\n",
       "Layering           132\n",
       "Trend              118\n",
       "Chemises             1\n",
       "Casual bottoms       1\n",
       "Name: product_category, dtype: int64"
      ]
     },
     "execution_count": 24,
     "metadata": {},
     "output_type": "execute_result"
    }
   ],
   "source": [
    "df_transformed['product_category'].value_counts()"
   ]
  },
  {
   "cell_type": "code",
   "execution_count": 61,
   "metadata": {},
   "outputs": [],
   "source": [
    "# df_transformed['star_rating'].value_counts().plot(kind='bar', x='Sentiment', y='Count_Sentiment', rot=0)"
   ]
  },
  {
   "cell_type": "markdown",
   "metadata": {},
   "source": [
    "Now convert the `star_rating` into the `sentiment` (positive, neutral, negative), which later on will be for the prediction."
   ]
  },
  {
   "cell_type": "code",
   "execution_count": 25,
   "metadata": {},
   "outputs": [
    {
     "data": {
      "text/plain": [
       "(22626, 3)"
      ]
     },
     "execution_count": 25,
     "metadata": {},
     "output_type": "execute_result"
    }
   ],
   "source": [
    "def to_sentiment(star_rating):\n",
    "    if star_rating in {1, 2}: # negative\n",
    "        return -1 \n",
    "    if star_rating == 3:      # neutral\n",
    "        return 0\n",
    "    if star_rating in {4, 5}: # positive\n",
    "        return 1\n",
    "\n",
    "# transform star_rating into the sentiment\n",
    "df_transformed['sentiment'] = df_transformed['star_rating'].apply(lambda star_rating: \n",
    "    to_sentiment(star_rating = star_rating) \n",
    ")\n",
    "\n",
    "# drop the star rating column\n",
    "df_transformed.drop(columns=['star_rating'],\n",
    "                    inplace=True)\n",
    "\n",
    "# remove reviews for product_categories with < 10 reviews\n",
    "df_transformed = df_transformed.groupby('product_category').filter(lambda reviews : len(reviews) > 10)[['sentiment', 'review_body', 'product_category']]\n",
    "\n",
    "df_transformed.shape"
   ]
  },
  {
   "cell_type": "code",
   "execution_count": 26,
   "metadata": {},
   "outputs": [
    {
     "data": {
      "text/html": [
       "<div>\n",
       "<style scoped>\n",
       "    .dataframe tbody tr th:only-of-type {\n",
       "        vertical-align: middle;\n",
       "    }\n",
       "\n",
       "    .dataframe tbody tr th {\n",
       "        vertical-align: top;\n",
       "    }\n",
       "\n",
       "    .dataframe thead th {\n",
       "        text-align: right;\n",
       "    }\n",
       "</style>\n",
       "<table border=\"1\" class=\"dataframe\">\n",
       "  <thead>\n",
       "    <tr style=\"text-align: right;\">\n",
       "      <th></th>\n",
       "      <th>sentiment</th>\n",
       "      <th>review_body</th>\n",
       "      <th>product_category</th>\n",
       "    </tr>\n",
       "  </thead>\n",
       "  <tbody>\n",
       "    <tr>\n",
       "      <th>0</th>\n",
       "      <td>1</td>\n",
       "      <td>If this product was in petite  i would get the...</td>\n",
       "      <td>Blouses</td>\n",
       "    </tr>\n",
       "    <tr>\n",
       "      <th>1</th>\n",
       "      <td>1</td>\n",
       "      <td>Love this dress!  it's sooo pretty.  i happene...</td>\n",
       "      <td>Dresses</td>\n",
       "    </tr>\n",
       "    <tr>\n",
       "      <th>2</th>\n",
       "      <td>0</td>\n",
       "      <td>I had such high hopes for this dress and reall...</td>\n",
       "      <td>Dresses</td>\n",
       "    </tr>\n",
       "    <tr>\n",
       "      <th>3</th>\n",
       "      <td>1</td>\n",
       "      <td>I love  love  love this jumpsuit. it's fun  fl...</td>\n",
       "      <td>Pants</td>\n",
       "    </tr>\n",
       "    <tr>\n",
       "      <th>4</th>\n",
       "      <td>1</td>\n",
       "      <td>This shirt is very flattering to all due to th...</td>\n",
       "      <td>Blouses</td>\n",
       "    </tr>\n",
       "    <tr>\n",
       "      <th>...</th>\n",
       "      <td>...</td>\n",
       "      <td>...</td>\n",
       "      <td>...</td>\n",
       "    </tr>\n",
       "    <tr>\n",
       "      <th>23481</th>\n",
       "      <td>1</td>\n",
       "      <td>I was very happy to snag this dress at such a ...</td>\n",
       "      <td>Dresses</td>\n",
       "    </tr>\n",
       "    <tr>\n",
       "      <th>23482</th>\n",
       "      <td>0</td>\n",
       "      <td>It reminds me of maternity clothes. soft  stre...</td>\n",
       "      <td>Knits</td>\n",
       "    </tr>\n",
       "    <tr>\n",
       "      <th>23483</th>\n",
       "      <td>0</td>\n",
       "      <td>This fit well  but the top was very see throug...</td>\n",
       "      <td>Dresses</td>\n",
       "    </tr>\n",
       "    <tr>\n",
       "      <th>23484</th>\n",
       "      <td>0</td>\n",
       "      <td>I bought this dress for a wedding i have this ...</td>\n",
       "      <td>Dresses</td>\n",
       "    </tr>\n",
       "    <tr>\n",
       "      <th>23485</th>\n",
       "      <td>1</td>\n",
       "      <td>This dress in a lovely platinum is feminine an...</td>\n",
       "      <td>Dresses</td>\n",
       "    </tr>\n",
       "  </tbody>\n",
       "</table>\n",
       "<p>22626 rows × 3 columns</p>\n",
       "</div>"
      ],
      "text/plain": [
       "       sentiment                                        review_body  \\\n",
       "0              1  If this product was in petite  i would get the...   \n",
       "1              1  Love this dress!  it's sooo pretty.  i happene...   \n",
       "2              0  I had such high hopes for this dress and reall...   \n",
       "3              1  I love  love  love this jumpsuit. it's fun  fl...   \n",
       "4              1  This shirt is very flattering to all due to th...   \n",
       "...          ...                                                ...   \n",
       "23481          1  I was very happy to snag this dress at such a ...   \n",
       "23482          0  It reminds me of maternity clothes. soft  stre...   \n",
       "23483          0  This fit well  but the top was very see throug...   \n",
       "23484          0  I bought this dress for a wedding i have this ...   \n",
       "23485          1  This dress in a lovely platinum is feminine an...   \n",
       "\n",
       "      product_category  \n",
       "0              Blouses  \n",
       "1              Dresses  \n",
       "2              Dresses  \n",
       "3                Pants  \n",
       "4              Blouses  \n",
       "...                ...  \n",
       "23481          Dresses  \n",
       "23482            Knits  \n",
       "23483          Dresses  \n",
       "23484          Dresses  \n",
       "23485          Dresses  \n",
       "\n",
       "[22626 rows x 3 columns]"
      ]
     },
     "execution_count": 26,
     "metadata": {},
     "output_type": "execute_result"
    }
   ],
   "source": [
    "# preview the results\n",
    "df_transformed"
   ]
  },
  {
   "cell_type": "code",
   "execution_count": 27,
   "metadata": {},
   "outputs": [
    {
     "data": {
      "text/plain": [
       "Dresses       6145\n",
       "Knits         4626\n",
       "Blouses       2983\n",
       "Sweaters      1380\n",
       "Pants         1350\n",
       "Jeans         1104\n",
       "Fine gauge    1059\n",
       "Skirts         903\n",
       "Jackets        683\n",
       "Lounge         669\n",
       "Swim           332\n",
       "Outerwear      319\n",
       "Shorts         304\n",
       "Sleep          214\n",
       "Legwear        158\n",
       "Intimates      147\n",
       "Layering       132\n",
       "Trend          118\n",
       "Name: product_category, dtype: int64"
      ]
     },
     "execution_count": 27,
     "metadata": {},
     "output_type": "execute_result"
    }
   ],
   "source": [
    "df_transformed['product_category'].value_counts()"
   ]
  },
  {
   "cell_type": "markdown",
   "metadata": {},
   "source": [
    "<a name='c1w1-1.4.'></a>\n",
    "### 1.4 Write the data to a CSV file"
   ]
  },
  {
   "cell_type": "code",
   "execution_count": 28,
   "metadata": {},
   "outputs": [],
   "source": [
    "df_transformed.to_csv('./womens_clothing_ecommerce_reviews_transformed.csv', \n",
    "                      index=False)"
   ]
  },
  {
   "cell_type": "code",
   "execution_count": 29,
   "metadata": {},
   "outputs": [
    {
     "name": "stdout",
     "output_type": "stream",
     "text": [
      "sentiment,review_body,product_category\n",
      "1,If this product was in petite  i would get the petite. the regular is a little long on me but a tailor can do a simple fix on that.     fits nicely! i'm 5'4  130lb and pregnant so i bough t medium to grow into.     the tie can be front or back so provides for some nice flexibility on form fitting.,Blouses\n",
      "1,\"Love this dress!  it's sooo pretty.  i happened to find it in a store  and i'm glad i did bc i never would have ordered it online bc it's petite.  i bought a petite and am 5'8\"\".  i love the length on me- hits just a little below the knee.  would definitely be a true midi on someone who is truly petite.\",Dresses\n",
      "0,I had such high hopes for this dress and really wanted it to work for me. i initially ordered the petite small (my usual size) but i found this to be outrageously small. so small in fact that i could not zip it up! i reordered it in petite medium  which was just ok. overall  the top half was comfortable and fit nicely  but the bottom half had a very tight under layer and several somewhat cheap (net) over layers. imo  a major design flaw was the net over layer sewn directly into the zipper - it c,Dresses\n",
      "1,I love  love  love this jumpsuit. it's fun  flirty  and fabulous! every time i wear it  i get nothing but great compliments!,Pants\n"
     ]
    }
   ],
   "source": [
    "!head -n 5 ./womens_clothing_ecommerce_reviews_transformed.csv"
   ]
  },
  {
   "cell_type": "markdown",
   "metadata": {},
   "source": [
    "<a name='c1w1-2.'></a>\n",
    "# 2. Register the public dataset for querying and visualizing\n",
    "You will register the public dataset into an S3-backed database table so you can query and visualize our dataset at scale. "
   ]
  },
  {
   "cell_type": "markdown",
   "metadata": {},
   "source": [
    "<a name='c1w1-2.1.'></a>\n",
    "### 2.1. Register S3 dataset files as a table for querying\n",
    "Let's import required modules.\n",
    "\n",
    "`boto3` is the AWS SDK for Python to create, configure, and manage AWS services, such as Amazon Elastic Compute Cloud (Amazon EC2) and Amazon Simple Storage Service (Amazon S3). The SDK provides an object-oriented API as well as low-level access to AWS services. \n",
    "\n",
    "`sagemaker` is the SageMaker Python SDK which provides several high-level abstractions for working with the Amazon SageMaker."
   ]
  },
  {
   "cell_type": "code",
   "execution_count": 30,
   "metadata": {},
   "outputs": [
    {
     "name": "stdout",
     "output_type": "stream",
     "text": [
      "S3 Bucket: sagemaker-us-east-1-428602883579\n",
      "Region: us-east-1\n",
      "Account ID: <bound method Session.account_id of <sagemaker.session.Session object at 0x7f4989d26290>>\n"
     ]
    }
   ],
   "source": [
    "import boto3\n",
    "import sagemaker\n",
    "import pandas as pd\n",
    "import numpy as np\n",
    "import botocore\n",
    "\n",
    "config = botocore.config.Config(user_agent_extra='dlai-pds/c1/w1')\n",
    "\n",
    "# low-level service client of the boto3 session\n",
    "sm = boto3.client(service_name='sagemaker', \n",
    "                  config=config)\n",
    "\n",
    "sess = sagemaker.Session(sagemaker_client=sm)                         \n",
    "\n",
    "bucket = sess.default_bucket()\n",
    "role = sagemaker.get_execution_role()\n",
    "region = sess.boto_region_name\n",
    "account_id = sess.account_id\n",
    "\n",
    "print('S3 Bucket: {}'.format(bucket))\n",
    "print('Region: {}'.format(region))\n",
    "print('Account ID: {}'.format(account_id))"
   ]
  },
  {
   "cell_type": "markdown",
   "metadata": {},
   "source": [
    "Review the empty bucket which was created automatically for this account.\n",
    "\n",
    "**Instructions**: \n",
    "- open the link\n",
    "- click on the S3 bucket name `sagemaker-us-east-1-ACCOUNT`\n",
    "- check that it is empty at this stage"
   ]
  },
  {
   "cell_type": "code",
   "execution_count": 31,
   "metadata": {},
   "outputs": [
    {
     "data": {
      "text/html": [
       "<b>Review <a target=\"top\" href=\"https://s3.console.aws.amazon.com/s3/home?region=us-east-1#\">Amazon S3 buckets</a></b>"
      ],
      "text/plain": [
       "<IPython.core.display.HTML object>"
      ]
     },
     "metadata": {},
     "output_type": "display_data"
    }
   ],
   "source": [
    "from IPython.core.display import display, HTML\n",
    "\n",
    "display(HTML('<b>Review <a target=\"top\" href=\"https://s3.console.aws.amazon.com/s3/home?region={}#\">Amazon S3 buckets</a></b>'.format(region)))"
   ]
  },
  {
   "cell_type": "markdown",
   "metadata": {},
   "source": [
    "Copy the file into the S3 bucket."
   ]
  },
  {
   "cell_type": "code",
   "execution_count": 32,
   "metadata": {},
   "outputs": [
    {
     "name": "stdout",
     "output_type": "stream",
     "text": [
      "upload: ./womens_clothing_ecommerce_reviews_transformed.csv to s3://sagemaker-us-east-1-428602883579/data/transformed/womens_clothing_ecommerce_reviews_transformed.csv\n"
     ]
    }
   ],
   "source": [
    "!aws s3 cp ./womens_clothing_ecommerce_reviews_transformed.csv s3://$bucket/data/transformed/womens_clothing_ecommerce_reviews_transformed.csv"
   ]
  },
  {
   "cell_type": "markdown",
   "metadata": {},
   "source": [
    "Review the bucket with the file we uploaded above.\n",
    "\n",
    "**Instructions**: \n",
    "- open the link\n",
    "- check that the CSV file is located in the S3 bucket\n",
    "- check the location directory structure is the same as in the CLI command above\n",
    "- click on the file name and see the available information about the file (region, size, S3 URI, Amazon Resource Name (ARN))"
   ]
  },
  {
   "cell_type": "code",
   "execution_count": 33,
   "metadata": {},
   "outputs": [
    {
     "data": {
      "text/html": [
       "<b>Review <a target=\"top\" href=\"https://s3.console.aws.amazon.com/s3/buckets/sagemaker-us-east-1-428602883579?region=us-east-1&prefix=data/transformed/#\">Amazon S3 buckets</a></b>"
      ],
      "text/plain": [
       "<IPython.core.display.HTML object>"
      ]
     },
     "metadata": {},
     "output_type": "display_data"
    }
   ],
   "source": [
    "from IPython.core.display import display, HTML\n",
    "\n",
    "display(HTML('<b>Review <a target=\"top\" href=\"https://s3.console.aws.amazon.com/s3/buckets/{}?region={}&prefix=data/transformed/#\">Amazon S3 buckets</a></b>'.format(bucket, region)))"
   ]
  },
  {
   "cell_type": "markdown",
   "metadata": {},
   "source": [
    "**Import AWS Data Wrangler**\n",
    "\n",
    "[AWS Data Wrangler](https://github.com/awslabs/aws-data-wrangler) is an AWS Professional Service open source python initiative that extends the power of Pandas library to AWS connecting dataframes and AWS data related services (Amazon Redshift, AWS Glue, Amazon Athena, Amazon EMR, Amazon QuickSight, etc).\n",
    "\n",
    "Built on top of other open-source projects like Pandas, Apache Arrow, Boto3, SQLAlchemy, Psycopg2 and PyMySQL, it offers abstracted functions to execute usual ETL tasks like load/unload data from data lakes, data warehouses and databases."
   ]
  },
  {
   "cell_type": "markdown",
   "metadata": {},
   "source": [
    "Review the AWS Data Wrangler documentation: https://aws-data-wrangler.readthedocs.io/en/stable/"
   ]
  },
  {
   "cell_type": "code",
   "execution_count": 34,
   "metadata": {},
   "outputs": [],
   "source": [
    "import awswrangler as wr"
   ]
  },
  {
   "cell_type": "markdown",
   "metadata": {},
   "source": [
    "**Create AWS Glue Catalog database**"
   ]
  },
  {
   "cell_type": "markdown",
   "metadata": {},
   "source": [
    "The data catalog features of **AWS Glue** and the inbuilt integration to Amazon S3 simplify the process of identifying data and deriving the schema definition out of the discovered data. Using AWS Glue crawlers within your data catalog, you can traverse your data stored in Amazon S3 and build out the metadata tables that are defined in your data catalog.\n",
    "\n",
    "Here you will use `wr.catalog.create_database` function to create a database with the name `dsoaws_deep_learning` (\"dsoaws\" stands for \"Data Science on AWS\")."
   ]
  },
  {
   "cell_type": "code",
   "execution_count": 35,
   "metadata": {},
   "outputs": [],
   "source": [
    "wr.catalog.create_database(\n",
    "    name='dsoaws_deep_learning',\n",
    "    exist_ok=True\n",
    ")"
   ]
  },
  {
   "cell_type": "code",
   "execution_count": 37,
   "metadata": {},
   "outputs": [
    {
     "name": "stdout",
     "output_type": "stream",
     "text": [
      "Database name: dsoaws_deep_learning\n"
     ]
    }
   ],
   "source": [
    "dbs = wr.catalog.get_databases()\n",
    "\n",
    "for db in dbs:\n",
    "    print(\"Database name: \" + db['Name'])"
   ]
  },
  {
   "cell_type": "markdown",
   "metadata": {},
   "source": [
    "Review the created database in the AWS Glue Catalog.\n",
    "\n",
    "**Instructions**:\n",
    "- open the link\n",
    "- on the left side panel notice that you are in the AWS Glue -> Data Catalog -> Databases\n",
    "- check that the database `dsoaws_deep_learning` has been created\n",
    "- click on the name of the database\n",
    "- click on the `Tables in dsoaws_deep_learning` link to see that there are no tables"
   ]
  },
  {
   "cell_type": "code",
   "execution_count": 38,
   "metadata": {},
   "outputs": [
    {
     "data": {
      "text/html": [
       "<b>Review <a target=\"top\" href=\"https://console.aws.amazon.com/glue/home?region=us-east-1#catalog:tab=databases\">AWS Glue Databases</a></b>"
      ],
      "text/plain": [
       "<IPython.core.display.HTML object>"
      ]
     },
     "metadata": {},
     "output_type": "display_data"
    }
   ],
   "source": [
    "from IPython.core.display import display, HTML\n",
    "\n",
    "display(HTML('<b>Review <a target=\"top\" href=\"https://console.aws.amazon.com/glue/home?region={}#catalog:tab=databases\">AWS Glue Databases</a></b>'.format(region)))"
   ]
  },
  {
   "cell_type": "markdown",
   "metadata": {},
   "source": [
    "**Register CSV data with AWS Glue Catalog**"
   ]
  },
  {
   "cell_type": "markdown",
   "metadata": {},
   "source": [
    "<a name='c1w1-ex-2'></a>\n",
    "### Exercise 2\n",
    "\n",
    "Register CSV data with AWS Glue Catalog.\n",
    "\n",
    "**Instructions**:\n",
    "Use ```wr.catalog.create_csv_table``` function with the following parameters\n",
    "```python\n",
    "res = wr.catalog.create_csv_table(\n",
    "    database='...', # AWS Glue Catalog database name\n",
    "    path='s3://{}/data/transformed/'.format(bucket), # S3 object path for the data\n",
    "    table='reviews', # registered table name\n",
    "    columns_types={\n",
    "        'sentiment': 'int',        \n",
    "        'review_body': 'string',\n",
    "        'product_category': 'string'      \n",
    "    },\n",
    "    mode='overwrite',\n",
    "    skip_header_line_count=1,\n",
    "    sep=','    \n",
    ")\n",
    "```"
   ]
  },
  {
   "cell_type": "code",
   "execution_count": 39,
   "metadata": {},
   "outputs": [],
   "source": [
    "wr.catalog.create_csv_table(\n",
    "    ### BEGIN SOLUTION - DO NOT delete this comment for grading purposes\n",
    "    database= 'dsoaws_deep_learning', # Replace None\n",
    "    ### END SOLUTION - DO NOT delete this comment for grading purposes\n",
    "    path='s3://{}/data/transformed/'.format(bucket), \n",
    "    table=\"reviews\",    \n",
    "    columns_types={\n",
    "        'sentiment': 'int',        \n",
    "        'review_body': 'string',\n",
    "        'product_category': 'string'      \n",
    "    },\n",
    "    mode='overwrite',\n",
    "    skip_header_line_count=1,\n",
    "    sep=','\n",
    ")"
   ]
  },
  {
   "cell_type": "markdown",
   "metadata": {},
   "source": [
    "Review the registered table in the AWS Glue Catalog.\n",
    "\n",
    "**Instructions**:\n",
    "- open the link\n",
    "- on the left side panel notice that you are in the AWS Glue -> Data Catalog -> Databases -> Tables\n",
    "- check that you can see the table `reviews` from the database `dsoaws_deep_learning` in the list\n",
    "- click on the name of the table\n",
    "- explore the available information about the table (name, database, classification, location, schema etc.)"
   ]
  },
  {
   "cell_type": "code",
   "execution_count": 40,
   "metadata": {},
   "outputs": [
    {
     "data": {
      "text/html": [
       "<b>Review <a target=\"top\" href=\"https://console.aws.amazon.com/glue/home?region=us-east-1#\">AWS Glue Catalog</a></b>"
      ],
      "text/plain": [
       "<IPython.core.display.HTML object>"
      ]
     },
     "metadata": {},
     "output_type": "display_data"
    }
   ],
   "source": [
    "from IPython.core.display import display, HTML\n",
    "\n",
    "display(HTML('<b>Review <a target=\"top\" href=\"https://console.aws.amazon.com/glue/home?region={}#\">AWS Glue Catalog</a></b>'.format(region)))"
   ]
  },
  {
   "cell_type": "markdown",
   "metadata": {},
   "source": [
    "Review the table shape:"
   ]
  },
  {
   "cell_type": "code",
   "execution_count": 41,
   "metadata": {},
   "outputs": [
    {
     "data": {
      "text/html": [
       "<div>\n",
       "<style scoped>\n",
       "    .dataframe tbody tr th:only-of-type {\n",
       "        vertical-align: middle;\n",
       "    }\n",
       "\n",
       "    .dataframe tbody tr th {\n",
       "        vertical-align: top;\n",
       "    }\n",
       "\n",
       "    .dataframe thead th {\n",
       "        text-align: right;\n",
       "    }\n",
       "</style>\n",
       "<table border=\"1\" class=\"dataframe\">\n",
       "  <thead>\n",
       "    <tr style=\"text-align: right;\">\n",
       "      <th></th>\n",
       "      <th>Column Name</th>\n",
       "      <th>Type</th>\n",
       "      <th>Partition</th>\n",
       "      <th>Comment</th>\n",
       "    </tr>\n",
       "  </thead>\n",
       "  <tbody>\n",
       "    <tr>\n",
       "      <th>0</th>\n",
       "      <td>sentiment</td>\n",
       "      <td>int</td>\n",
       "      <td>False</td>\n",
       "      <td></td>\n",
       "    </tr>\n",
       "    <tr>\n",
       "      <th>1</th>\n",
       "      <td>review_body</td>\n",
       "      <td>string</td>\n",
       "      <td>False</td>\n",
       "      <td></td>\n",
       "    </tr>\n",
       "    <tr>\n",
       "      <th>2</th>\n",
       "      <td>product_category</td>\n",
       "      <td>string</td>\n",
       "      <td>False</td>\n",
       "      <td></td>\n",
       "    </tr>\n",
       "  </tbody>\n",
       "</table>\n",
       "</div>"
      ],
      "text/plain": [
       "        Column Name    Type  Partition Comment\n",
       "0         sentiment     int      False        \n",
       "1       review_body  string      False        \n",
       "2  product_category  string      False        "
      ]
     },
     "execution_count": 41,
     "metadata": {},
     "output_type": "execute_result"
    }
   ],
   "source": [
    "table = wr.catalog.table(database='dsoaws_deep_learning',\n",
    "                         table='reviews')\n",
    "table"
   ]
  },
  {
   "cell_type": "markdown",
   "metadata": {},
   "source": [
    "<a name='c1w1-2.2.'></a>\n",
    "### 2.2. Create default S3 bucket for Amazon Athena\n",
    "\n",
    "Amazon Athena requires this S3 bucket to store temporary query results and improve performance of subsequent queries.\n",
    "\n",
    "The contents of this bucket are mostly binary and human-unreadable. "
   ]
  },
  {
   "cell_type": "code",
   "execution_count": 42,
   "metadata": {},
   "outputs": [
    {
     "data": {
      "text/plain": [
       "'s3://aws-athena-query-results-428602883579-us-east-1/'"
      ]
     },
     "execution_count": 42,
     "metadata": {},
     "output_type": "execute_result"
    }
   ],
   "source": [
    "# S3 bucket name\n",
    "wr.athena.create_athena_bucket()\n",
    "\n",
    "# EXPECTED OUTPUT\n",
    "# 's3://aws-athena-query-results-ACCOUNT-REGION/'"
   ]
  },
  {
   "cell_type": "markdown",
   "metadata": {},
   "source": [
    "<a name='c1w1-3.'></a>\n",
    "# 3. Visualize data\n",
    "\n",
    "**Reviews dataset - column descriptions**\n",
    "\n",
    "- `sentiment`: The review's sentiment (-1, 0, 1).\n",
    "- `product_category`: Broad product category that can be used to group reviews (in this case digital videos).\n",
    "- `review_body`: The text of the review."
   ]
  },
  {
   "cell_type": "markdown",
   "metadata": {},
   "source": [
    "<a name='c1w1-3.1.'></a>\n",
    "### 3.1. Preparation for data visualization\n",
    "\n",
    "**Imports**"
   ]
  },
  {
   "cell_type": "code",
   "execution_count": 43,
   "metadata": {},
   "outputs": [],
   "source": [
    "import numpy as np\n",
    "import seaborn as sns\n",
    "\n",
    "import matplotlib.pyplot as plt\n",
    "%matplotlib inline\n",
    "%config InlineBackend.figure_format='retina'"
   ]
  },
  {
   "cell_type": "markdown",
   "metadata": {},
   "source": [
    "**Settings**"
   ]
  },
  {
   "cell_type": "markdown",
   "metadata": {},
   "source": [
    "Set AWS Glue database and table name."
   ]
  },
  {
   "cell_type": "code",
   "execution_count": 44,
   "metadata": {},
   "outputs": [],
   "source": [
    "# Do not change the database and table names - they are used for grading purposes!\n",
    "database_name = 'dsoaws_deep_learning'\n",
    "table_name = 'reviews'"
   ]
  },
  {
   "cell_type": "markdown",
   "metadata": {},
   "source": [
    "Set seaborn parameters. You can review seaborn documentation following the [link](https://seaborn.pydata.org/index.html)."
   ]
  },
  {
   "cell_type": "code",
   "execution_count": 45,
   "metadata": {},
   "outputs": [],
   "source": [
    "sns.set_style = 'seaborn-whitegrid'\n",
    "\n",
    "sns.set(rc={\"font.style\":\"normal\",\n",
    "            \"axes.facecolor\":\"white\",\n",
    "            'grid.color': '.8',\n",
    "            'grid.linestyle': '-',\n",
    "            \"figure.facecolor\":\"white\",\n",
    "            \"figure.titlesize\":20,\n",
    "            \"text.color\":\"black\",\n",
    "            \"xtick.color\":\"black\",\n",
    "            \"ytick.color\":\"black\",\n",
    "            \"axes.labelcolor\":\"black\",\n",
    "            \"axes.grid\":True,\n",
    "            'axes.labelsize':10,\n",
    "            'xtick.labelsize':10,\n",
    "            'font.size':10,\n",
    "            'ytick.labelsize':10})"
   ]
  },
  {
   "cell_type": "markdown",
   "metadata": {},
   "source": [
    "Helper code to display values on barplots:"
   ]
  },
  {
   "cell_type": "markdown",
   "metadata": {},
   "source": [
    "**Run SQL queries using Amazon Athena**"
   ]
  },
  {
   "cell_type": "markdown",
   "metadata": {},
   "source": [
    "**Amazon Athena** lets you query data in Amazon S3 using a standard SQL interface. It reflects the databases and tables in the AWS Glue Catalog. You can create interactive queries and perform any data manipulations required for further downstream processing."
   ]
  },
  {
   "cell_type": "markdown",
   "metadata": {},
   "source": [
    "Standard SQL query can be saved as a string and then passed as a parameter into the Athena query. Run the following cells as an example to count the total number of reviews by sentiment. The SQL query here will take the following form:\n",
    "\n",
    "```sql\n",
    "SELECT column_name, COUNT(column_name) as new_column_name\n",
    "FROM table_name\n",
    "GROUP BY column_name\n",
    "ORDER BY column_name\n",
    "```\n",
    "\n",
    "If you are not familiar with the SQL query statements, you can review some tutorials following the [link](https://www.w3schools.com/sql/default.asp)."
   ]
  },
  {
   "cell_type": "markdown",
   "metadata": {},
   "source": [
    "<a name='c1w1-3.2.'></a>\n",
    "### 3.2. How many reviews per sentiment?"
   ]
  },
  {
   "cell_type": "code",
   "execution_count": 50,
   "metadata": {},
   "outputs": [
    {
     "data": {
      "text/plain": [
       " 1    17433\n",
       " 0     2823\n",
       "-1     2370\n",
       "Name: sentiment, dtype: int64"
      ]
     },
     "execution_count": 50,
     "metadata": {},
     "output_type": "execute_result"
    }
   ],
   "source": [
    "df_transformed['sentiment'].value_counts()"
   ]
  },
  {
   "cell_type": "markdown",
   "metadata": {},
   "source": [
    "Set the SQL statement to find the count of sentiments:"
   ]
  },
  {
   "cell_type": "code",
   "execution_count": 55,
   "metadata": {},
   "outputs": [
    {
     "name": "stdout",
     "output_type": "stream",
     "text": [
      "\n",
      "SELECT sentiment, COUNT(sentiment) AS count_sentiment\n",
      "FROM reviews\n",
      "GROUP BY sentiment\n",
      "ORDER BY sentiment\n",
      "\n"
     ]
    }
   ],
   "source": [
    "statement_count_by_sentiment = \"\"\"\n",
    "SELECT sentiment, COUNT(sentiment) AS count_sentiment\n",
    "FROM reviews\n",
    "GROUP BY sentiment\n",
    "ORDER BY sentiment\n",
    "\"\"\"\n",
    "\n",
    "print(statement_count_by_sentiment)"
   ]
  },
  {
   "cell_type": "markdown",
   "metadata": {},
   "source": [
    "Query data in Amazon Athena database cluster using the prepared SQL statement:"
   ]
  },
  {
   "cell_type": "code",
   "execution_count": 56,
   "metadata": {},
   "outputs": [
    {
     "name": "stdout",
     "output_type": "stream",
     "text": [
      "   sentiment  count_sentiment\n",
      "0         -1             2370\n",
      "1          0             2823\n",
      "2          1            17433\n"
     ]
    }
   ],
   "source": [
    "df_count_by_sentiment = wr.athena.read_sql_query(\n",
    "    sql= statement_count_by_sentiment,\n",
    "    database= database_name\n",
    ")\n",
    "\n",
    "print(df_count_by_sentiment)"
   ]
  },
  {
   "cell_type": "markdown",
   "metadata": {},
   "source": [
    "Preview the results of the query:"
   ]
  },
  {
   "cell_type": "code",
   "execution_count": 57,
   "metadata": {},
   "outputs": [
    {
     "data": {
      "text/plain": [
       "<AxesSubplot:xlabel='sentiment'>"
      ]
     },
     "execution_count": 57,
     "metadata": {},
     "output_type": "execute_result"
    },
    {
     "data": {
      "image/png": "[encoded data removed]",
      "text/plain": [
       "<Figure size 432x288 with 1 Axes>"
      ]
     },
     "metadata": {
      "image/png": {
       "height": 264,
       "width": 390
      }
     },
     "output_type": "display_data"
    }
   ],
   "source": [
    "df_count_by_sentiment.plot(kind='bar', x='sentiment', y='count_sentiment', rot=0)"
   ]
  },
  {
   "cell_type": "markdown",
   "metadata": {},
   "source": [
    "<a name='c1w1-ex-3'></a>\n",
    "### Exercise 3\n",
    "\n",
    "Use Amazon Athena query with the standard SQL statement passed as a parameter, to calculate the total number of reviews per `product_category` in the table ```reviews```.\n",
    "\n",
    "**Instructions**: Pass the SQL statement of the form\n",
    "\n",
    "```sql\n",
    "SELECT category_column, COUNT(column_name) AS new_column_name\n",
    "FROM table_name\n",
    "GROUP BY category_column\n",
    "ORDER BY new_column_name DESC\n",
    "```\n",
    "\n",
    "as a triple quote string into the variable `statement_count_by_category`. Please use the column `sentiment` in the `COUNT` function and give it a new name `count_sentiment`."
   ]
  },
  {
   "cell_type": "code",
   "execution_count": 62,
   "metadata": {},
   "outputs": [
    {
     "data": {
      "text/html": [
       "<div>\n",
       "<style scoped>\n",
       "    .dataframe tbody tr th:only-of-type {\n",
       "        vertical-align: middle;\n",
       "    }\n",
       "\n",
       "    .dataframe tbody tr th {\n",
       "        vertical-align: top;\n",
       "    }\n",
       "\n",
       "    .dataframe thead th {\n",
       "        text-align: right;\n",
       "    }\n",
       "</style>\n",
       "<table border=\"1\" class=\"dataframe\">\n",
       "  <thead>\n",
       "    <tr style=\"text-align: right;\">\n",
       "      <th></th>\n",
       "      <th>sentiment</th>\n",
       "      <th>review_body</th>\n",
       "      <th>product_category</th>\n",
       "    </tr>\n",
       "  </thead>\n",
       "  <tbody>\n",
       "    <tr>\n",
       "      <th>0</th>\n",
       "      <td>1</td>\n",
       "      <td>If this product was in petite  i would get the...</td>\n",
       "      <td>Blouses</td>\n",
       "    </tr>\n",
       "    <tr>\n",
       "      <th>1</th>\n",
       "      <td>1</td>\n",
       "      <td>Love this dress!  it's sooo pretty.  i happene...</td>\n",
       "      <td>Dresses</td>\n",
       "    </tr>\n",
       "    <tr>\n",
       "      <th>2</th>\n",
       "      <td>0</td>\n",
       "      <td>I had such high hopes for this dress and reall...</td>\n",
       "      <td>Dresses</td>\n",
       "    </tr>\n",
       "    <tr>\n",
       "      <th>3</th>\n",
       "      <td>1</td>\n",
       "      <td>I love  love  love this jumpsuit. it's fun  fl...</td>\n",
       "      <td>Pants</td>\n",
       "    </tr>\n",
       "    <tr>\n",
       "      <th>4</th>\n",
       "      <td>1</td>\n",
       "      <td>This shirt is very flattering to all due to th...</td>\n",
       "      <td>Blouses</td>\n",
       "    </tr>\n",
       "  </tbody>\n",
       "</table>\n",
       "</div>"
      ],
      "text/plain": [
       "   sentiment                                        review_body  \\\n",
       "0          1  If this product was in petite  i would get the...   \n",
       "1          1  Love this dress!  it's sooo pretty.  i happene...   \n",
       "2          0  I had such high hopes for this dress and reall...   \n",
       "3          1  I love  love  love this jumpsuit. it's fun  fl...   \n",
       "4          1  This shirt is very flattering to all due to th...   \n",
       "\n",
       "  product_category  \n",
       "0          Blouses  \n",
       "1          Dresses  \n",
       "2          Dresses  \n",
       "3            Pants  \n",
       "4          Blouses  "
      ]
     },
     "execution_count": 62,
     "metadata": {},
     "output_type": "execute_result"
    }
   ],
   "source": [
    "df_transformed.head()"
   ]
  },
  {
   "cell_type": "code",
   "execution_count": 63,
   "metadata": {},
   "outputs": [
    {
     "name": "stdout",
     "output_type": "stream",
     "text": [
      "\n",
      "SELECT product_category, COUNT(sentiment) AS count_sentiment\n",
      "FROM reviews\n",
      "GROUP BY product_category \n",
      "ORDER BY count_sentiment DESC\n",
      "\n"
     ]
    }
   ],
   "source": [
    "# Replace all None\n",
    "### BEGIN SOLUTION - DO NOT delete this comment for grading purposes\n",
    "statement_count_by_category = \"\"\"\n",
    "SELECT product_category, COUNT(sentiment) AS count_sentiment\n",
    "FROM reviews\n",
    "GROUP BY product_category \n",
    "ORDER BY count_sentiment DESC\n",
    "\"\"\"\n",
    "### END SOLUTION - DO NOT delete this comment for grading purposes\n",
    "print(statement_count_by_category)"
   ]
  },
  {
   "cell_type": "markdown",
   "metadata": {},
   "source": [
    "Query data in Amazon Athena database passing the prepared SQL statement:"
   ]
  },
  {
   "cell_type": "code",
   "execution_count": 64,
   "metadata": {},
   "outputs": [
    {
     "name": "stdout",
     "output_type": "stream",
     "text": [
      "CPU times: user 271 ms, sys: 7.07 ms, total: 279 ms\n",
      "Wall time: 3.73 s\n"
     ]
    },
    {
     "data": {
      "text/html": [
       "<div>\n",
       "<style scoped>\n",
       "    .dataframe tbody tr th:only-of-type {\n",
       "        vertical-align: middle;\n",
       "    }\n",
       "\n",
       "    .dataframe tbody tr th {\n",
       "        vertical-align: top;\n",
       "    }\n",
       "\n",
       "    .dataframe thead th {\n",
       "        text-align: right;\n",
       "    }\n",
       "</style>\n",
       "<table border=\"1\" class=\"dataframe\">\n",
       "  <thead>\n",
       "    <tr style=\"text-align: right;\">\n",
       "      <th></th>\n",
       "      <th>product_category</th>\n",
       "      <th>count_sentiment</th>\n",
       "    </tr>\n",
       "  </thead>\n",
       "  <tbody>\n",
       "    <tr>\n",
       "      <th>0</th>\n",
       "      <td>Dresses</td>\n",
       "      <td>6145</td>\n",
       "    </tr>\n",
       "    <tr>\n",
       "      <th>1</th>\n",
       "      <td>Knits</td>\n",
       "      <td>4626</td>\n",
       "    </tr>\n",
       "    <tr>\n",
       "      <th>2</th>\n",
       "      <td>Blouses</td>\n",
       "      <td>2983</td>\n",
       "    </tr>\n",
       "    <tr>\n",
       "      <th>3</th>\n",
       "      <td>Sweaters</td>\n",
       "      <td>1380</td>\n",
       "    </tr>\n",
       "    <tr>\n",
       "      <th>4</th>\n",
       "      <td>Pants</td>\n",
       "      <td>1350</td>\n",
       "    </tr>\n",
       "    <tr>\n",
       "      <th>5</th>\n",
       "      <td>Jeans</td>\n",
       "      <td>1104</td>\n",
       "    </tr>\n",
       "    <tr>\n",
       "      <th>6</th>\n",
       "      <td>Fine gauge</td>\n",
       "      <td>1059</td>\n",
       "    </tr>\n",
       "    <tr>\n",
       "      <th>7</th>\n",
       "      <td>Skirts</td>\n",
       "      <td>903</td>\n",
       "    </tr>\n",
       "    <tr>\n",
       "      <th>8</th>\n",
       "      <td>Jackets</td>\n",
       "      <td>683</td>\n",
       "    </tr>\n",
       "    <tr>\n",
       "      <th>9</th>\n",
       "      <td>Lounge</td>\n",
       "      <td>669</td>\n",
       "    </tr>\n",
       "    <tr>\n",
       "      <th>10</th>\n",
       "      <td>Swim</td>\n",
       "      <td>332</td>\n",
       "    </tr>\n",
       "    <tr>\n",
       "      <th>11</th>\n",
       "      <td>Outerwear</td>\n",
       "      <td>319</td>\n",
       "    </tr>\n",
       "    <tr>\n",
       "      <th>12</th>\n",
       "      <td>Shorts</td>\n",
       "      <td>304</td>\n",
       "    </tr>\n",
       "    <tr>\n",
       "      <th>13</th>\n",
       "      <td>Sleep</td>\n",
       "      <td>214</td>\n",
       "    </tr>\n",
       "    <tr>\n",
       "      <th>14</th>\n",
       "      <td>Legwear</td>\n",
       "      <td>158</td>\n",
       "    </tr>\n",
       "    <tr>\n",
       "      <th>15</th>\n",
       "      <td>Intimates</td>\n",
       "      <td>147</td>\n",
       "    </tr>\n",
       "    <tr>\n",
       "      <th>16</th>\n",
       "      <td>Layering</td>\n",
       "      <td>132</td>\n",
       "    </tr>\n",
       "    <tr>\n",
       "      <th>17</th>\n",
       "      <td>Trend</td>\n",
       "      <td>118</td>\n",
       "    </tr>\n",
       "  </tbody>\n",
       "</table>\n",
       "</div>"
      ],
      "text/plain": [
       "   product_category  count_sentiment\n",
       "0           Dresses             6145\n",
       "1             Knits             4626\n",
       "2           Blouses             2983\n",
       "3          Sweaters             1380\n",
       "4             Pants             1350\n",
       "5             Jeans             1104\n",
       "6        Fine gauge             1059\n",
       "7            Skirts              903\n",
       "8           Jackets              683\n",
       "9            Lounge              669\n",
       "10             Swim              332\n",
       "11        Outerwear              319\n",
       "12           Shorts              304\n",
       "13            Sleep              214\n",
       "14          Legwear              158\n",
       "15        Intimates              147\n",
       "16         Layering              132\n",
       "17            Trend              118"
      ]
     },
     "execution_count": 64,
     "metadata": {},
     "output_type": "execute_result"
    }
   ],
   "source": [
    "%%time\n",
    "df_count_by_category = wr.athena.read_sql_query(\n",
    "    sql= statement_count_by_category,\n",
    "    database= database_name\n",
    ")\n",
    "\n",
    "df_count_by_category\n",
    "\n",
    "# EXPECTED OUTPUT\n",
    "# Dresses: 6145\n",
    "# Knits: 4626\n",
    "# Blouses: 2983\n",
    "# Sweaters: 1380\n",
    "# Pants: 1350\n",
    "# ..."
   ]
  },
  {
   "cell_type": "markdown",
   "metadata": {},
   "source": [
    "<a name='c1w1-3.3.'></a>\n",
    "### 3.3. Which product categories are highest rated by average sentiment?"
   ]
  },
  {
   "cell_type": "markdown",
   "metadata": {},
   "source": [
    "Set the SQL statement to find the average sentiment per product category, showing the results in the descending order:"
   ]
  },
  {
   "cell_type": "code",
   "execution_count": 65,
   "metadata": {},
   "outputs": [
    {
     "name": "stdout",
     "output_type": "stream",
     "text": [
      "\n",
      "SELECT product_category, AVG(sentiment) AS avg_sentiment\n",
      "FROM reviews \n",
      "GROUP BY product_category \n",
      "ORDER BY avg_sentiment DESC\n",
      "\n"
     ]
    }
   ],
   "source": [
    "statement_avg_by_category = \"\"\"\n",
    "SELECT product_category, AVG(sentiment) AS avg_sentiment\n",
    "FROM {} \n",
    "GROUP BY product_category \n",
    "ORDER BY avg_sentiment DESC\n",
    "\"\"\".format(table_name)\n",
    "\n",
    "print(statement_avg_by_category)"
   ]
  },
  {
   "cell_type": "markdown",
   "metadata": {},
   "source": [
    "Query data in Amazon Athena database passing the prepared SQL statement:"
   ]
  },
  {
   "cell_type": "code",
   "execution_count": 66,
   "metadata": {},
   "outputs": [
    {
     "name": "stdout",
     "output_type": "stream",
     "text": [
      "CPU times: user 267 ms, sys: 31.5 ms, total: 298 ms\n",
      "Wall time: 3.96 s\n"
     ]
    }
   ],
   "source": [
    "%%time\n",
    "df_avg_by_category = wr.athena.read_sql_query(\n",
    "    sql=statement_avg_by_category,\n",
    "    database=database_name\n",
    ")"
   ]
  },
  {
   "cell_type": "markdown",
   "metadata": {},
   "source": [
    "Preview the query results in the temporary S3 bucket:  `s3://aws-athena-query-results-ACCOUNT-REGION/`\n",
    "\n",
    "**Instructions**: \n",
    "- open the link\n",
    "- check the name of the S3 bucket\n",
    "- briefly check the content of it"
   ]
  },
  {
   "cell_type": "code",
   "execution_count": 68,
   "metadata": {},
   "outputs": [
    {
     "data": {
      "text/html": [
       "<b>Review <a target=\"top\" href=\"https://s3.console.aws.amazon.com/s3/buckets/aws-athena-query-results-<bound method Session.account_id of <sagemaker.session.Session object at 0x7f4989d26290>>-us-east-1?region=us-east-1\">Amazon S3 buckets</a></b>"
      ],
      "text/plain": [
       "<IPython.core.display.HTML object>"
      ]
     },
     "metadata": {},
     "output_type": "display_data"
    }
   ],
   "source": [
    "from IPython.core.display import display, HTML\n",
    "\n",
    "display(HTML('<b>Review <a target=\"top\" href=\"https://s3.console.aws.amazon.com/s3/buckets/aws-athena-query-results-{}-{}?region={}\">Amazon S3 buckets</a></b>'.format(account_id, region, region)))"
   ]
  },
  {
   "cell_type": "markdown",
   "metadata": {},
   "source": [
    "Preview the results of the query:"
   ]
  },
  {
   "cell_type": "code",
   "execution_count": 69,
   "metadata": {},
   "outputs": [
    {
     "data": {
      "text/html": [
       "<div>\n",
       "<style scoped>\n",
       "    .dataframe tbody tr th:only-of-type {\n",
       "        vertical-align: middle;\n",
       "    }\n",
       "\n",
       "    .dataframe tbody tr th {\n",
       "        vertical-align: top;\n",
       "    }\n",
       "\n",
       "    .dataframe thead th {\n",
       "        text-align: right;\n",
       "    }\n",
       "</style>\n",
       "<table border=\"1\" class=\"dataframe\">\n",
       "  <thead>\n",
       "    <tr style=\"text-align: right;\">\n",
       "      <th></th>\n",
       "      <th>product_category</th>\n",
       "      <th>avg_sentiment</th>\n",
       "    </tr>\n",
       "  </thead>\n",
       "  <tbody>\n",
       "    <tr>\n",
       "      <th>0</th>\n",
       "      <td>Layering</td>\n",
       "      <td>0.780303</td>\n",
       "    </tr>\n",
       "    <tr>\n",
       "      <th>1</th>\n",
       "      <td>Jeans</td>\n",
       "      <td>0.746377</td>\n",
       "    </tr>\n",
       "    <tr>\n",
       "      <th>2</th>\n",
       "      <td>Lounge</td>\n",
       "      <td>0.745889</td>\n",
       "    </tr>\n",
       "    <tr>\n",
       "      <th>3</th>\n",
       "      <td>Sleep</td>\n",
       "      <td>0.710280</td>\n",
       "    </tr>\n",
       "    <tr>\n",
       "      <th>4</th>\n",
       "      <td>Shorts</td>\n",
       "      <td>0.707237</td>\n",
       "    </tr>\n",
       "    <tr>\n",
       "      <th>5</th>\n",
       "      <td>Pants</td>\n",
       "      <td>0.705185</td>\n",
       "    </tr>\n",
       "    <tr>\n",
       "      <th>6</th>\n",
       "      <td>Intimates</td>\n",
       "      <td>0.700680</td>\n",
       "    </tr>\n",
       "    <tr>\n",
       "      <th>7</th>\n",
       "      <td>Jackets</td>\n",
       "      <td>0.699854</td>\n",
       "    </tr>\n",
       "    <tr>\n",
       "      <th>8</th>\n",
       "      <td>Skirts</td>\n",
       "      <td>0.696567</td>\n",
       "    </tr>\n",
       "    <tr>\n",
       "      <th>9</th>\n",
       "      <td>Legwear</td>\n",
       "      <td>0.696203</td>\n",
       "    </tr>\n",
       "    <tr>\n",
       "      <th>10</th>\n",
       "      <td>Fine gauge</td>\n",
       "      <td>0.692162</td>\n",
       "    </tr>\n",
       "    <tr>\n",
       "      <th>11</th>\n",
       "      <td>Outerwear</td>\n",
       "      <td>0.683386</td>\n",
       "    </tr>\n",
       "    <tr>\n",
       "      <th>12</th>\n",
       "      <td>Knits</td>\n",
       "      <td>0.653913</td>\n",
       "    </tr>\n",
       "    <tr>\n",
       "      <th>13</th>\n",
       "      <td>Swim</td>\n",
       "      <td>0.644578</td>\n",
       "    </tr>\n",
       "    <tr>\n",
       "      <th>14</th>\n",
       "      <td>Dresses</td>\n",
       "      <td>0.643287</td>\n",
       "    </tr>\n",
       "    <tr>\n",
       "      <th>15</th>\n",
       "      <td>Sweaters</td>\n",
       "      <td>0.641304</td>\n",
       "    </tr>\n",
       "    <tr>\n",
       "      <th>16</th>\n",
       "      <td>Blouses</td>\n",
       "      <td>0.641301</td>\n",
       "    </tr>\n",
       "    <tr>\n",
       "      <th>17</th>\n",
       "      <td>Trend</td>\n",
       "      <td>0.483051</td>\n",
       "    </tr>\n",
       "  </tbody>\n",
       "</table>\n",
       "</div>"
      ],
      "text/plain": [
       "   product_category  avg_sentiment\n",
       "0          Layering       0.780303\n",
       "1             Jeans       0.746377\n",
       "2            Lounge       0.745889\n",
       "3             Sleep       0.710280\n",
       "4            Shorts       0.707237\n",
       "5             Pants       0.705185\n",
       "6         Intimates       0.700680\n",
       "7           Jackets       0.699854\n",
       "8            Skirts       0.696567\n",
       "9           Legwear       0.696203\n",
       "10       Fine gauge       0.692162\n",
       "11        Outerwear       0.683386\n",
       "12            Knits       0.653913\n",
       "13             Swim       0.644578\n",
       "14          Dresses       0.643287\n",
       "15         Sweaters       0.641304\n",
       "16          Blouses       0.641301\n",
       "17            Trend       0.483051"
      ]
     },
     "execution_count": 69,
     "metadata": {},
     "output_type": "execute_result"
    }
   ],
   "source": [
    "df_avg_by_category"
   ]
  },
  {
   "cell_type": "markdown",
   "metadata": {},
   "source": [
    "**Visualization**"
   ]
  },
  {
   "cell_type": "code",
   "execution_count": 72,
   "metadata": {},
   "outputs": [],
   "source": [
    "def show_values_barplot(axs, space):\n",
    "    def _show_on_plot(ax):\n",
    "        for p in ax.patches:\n",
    "            _x = p.get_x() + p.get_width() + float(space)\n",
    "            _y = p.get_y() + p.get_height()\n",
    "            value = round(float(p.get_width()),2)\n",
    "            ax.text(_x, _y, value, ha=\"left\")\n",
    "\n",
    "    if isinstance(axs, np.ndarray):\n",
    "        for idx, ax in np.ndenumerate(axs):\n",
    "            _show_on_plot(ax)\n",
    "    else:\n",
    "        _show_on_plot(axs)"
   ]
  },
  {
   "cell_type": "code",
   "execution_count": 74,
   "metadata": {},
   "outputs": [
    {
     "data": {
      "image/png": "[encoded data removed]",
      "text/plain": [
       "<Figure size 1080x720 with 1 Axes>"
      ]
     },
     "metadata": {
      "image/png": {
       "height": 706,
       "width": 1070
      }
     },
     "output_type": "display_data"
    }
   ],
   "source": [
    "# Create plot\n",
    "barplot = sns.barplot(\n",
    "    data = df_avg_by_category, \n",
    "    y='product_category',\n",
    "    x='avg_sentiment', \n",
    "    color=\"teal\", \n",
    "    saturation=1\n",
    ")\n",
    "\n",
    "# Set the size of the figure\n",
    "sns.set(rc={'figure.figsize':(15.0, 10.0)})\n",
    "    \n",
    "# Set title and x-axis ticks \n",
    "plt.title('Average sentiment by product category')\n",
    "#plt.xticks([-1, 0, 1], ['Negative', 'Neutral', 'Positive'])\n",
    "\n",
    "# Helper code to show actual values afters bars \n",
    "show_values_barplot(barplot, 0.1)\n",
    "\n",
    "plt.xlabel(\"Average sentiment\")\n",
    "plt.ylabel(\"Product category\")\n",
    "\n",
    "plt.tight_layout()\n",
    "# Do not change the figure name - it is used for grading purposes!\n",
    "plt.savefig('avg_sentiment_per_category.png', dpi=300)\n",
    "\n",
    "# Show graphic\n",
    "plt.show(barplot)"
   ]
  },
  {
   "cell_type": "code",
   "execution_count": 75,
   "metadata": {},
   "outputs": [
    {
     "data": {
      "text/plain": [
       "'s3://sagemaker-us-east-1-428602883579/images/avg_sentiment_per_category.png'"
      ]
     },
     "execution_count": 75,
     "metadata": {},
     "output_type": "execute_result"
    }
   ],
   "source": [
    "# Upload image to S3 bucket\n",
    "sess.upload_data(path='avg_sentiment_per_category.png', bucket=bucket, key_prefix=\"images\")"
   ]
  },
  {
   "cell_type": "markdown",
   "metadata": {},
   "source": [
    "Review the bucket on the account.\n",
    "\n",
    "**Instructions**: \n",
    "- open the link\n",
    "- click on the S3 bucket name `sagemaker-us-east-1-ACCOUNT`\n",
    "- open the images folder\n",
    "- check the existence of the image `avg_sentiment_per_category.png`\n",
    "- if you click on the image name, you can see the information about the image file. You can also download the file with the command on the top right Object Actions -> Download / Download as\n",
    "<img src=\"images/download_image_file.png\" width=\"100%\">"
   ]
  },
  {
   "cell_type": "code",
   "execution_count": 76,
   "metadata": {},
   "outputs": [
    {
     "data": {
      "text/html": [
       "<b>Review <a target=\"top\" href=\"https://s3.console.aws.amazon.com/s3/home?region=us-east-1\">Amazon S3 buckets</a></b>"
      ],
      "text/plain": [
       "<IPython.core.display.HTML object>"
      ]
     },
     "metadata": {},
     "output_type": "display_data"
    }
   ],
   "source": [
    "from IPython.core.display import display, HTML\n",
    "\n",
    "display(HTML('<b>Review <a target=\"top\" href=\"https://s3.console.aws.amazon.com/s3/home?region={}\">Amazon S3 buckets</a></b>'.format(region)))"
   ]
  },
  {
   "cell_type": "markdown",
   "metadata": {},
   "source": [
    "<a name='c1w1-3.4.'></a>\n",
    "### 3.4. Which product categories have the most reviews?\n",
    "\n",
    "Set the SQL statement to find the count of sentiment per product category, showing the results in the descending order:"
   ]
  },
  {
   "cell_type": "code",
   "execution_count": 77,
   "metadata": {},
   "outputs": [
    {
     "name": "stdout",
     "output_type": "stream",
     "text": [
      "\n",
      "SELECT product_category, COUNT(*) AS count_reviews \n",
      "FROM reviews\n",
      "GROUP BY product_category \n",
      "ORDER BY count_reviews DESC\n",
      "\n"
     ]
    }
   ],
   "source": [
    "statement_count_by_category_desc = \"\"\"\n",
    "SELECT product_category, COUNT(*) AS count_reviews \n",
    "FROM {}\n",
    "GROUP BY product_category \n",
    "ORDER BY count_reviews DESC\n",
    "\"\"\".format(table_name)\n",
    "\n",
    "print(statement_count_by_category_desc)"
   ]
  },
  {
   "cell_type": "markdown",
   "metadata": {},
   "source": [
    "Query data in Amazon Athena database passing the prepared SQL statement:"
   ]
  },
  {
   "cell_type": "code",
   "execution_count": 78,
   "metadata": {},
   "outputs": [
    {
     "name": "stdout",
     "output_type": "stream",
     "text": [
      "CPU times: user 264 ms, sys: 3.77 ms, total: 268 ms\n",
      "Wall time: 3.3 s\n"
     ]
    }
   ],
   "source": [
    "%%time\n",
    "df_count_by_category_desc = wr.athena.read_sql_query(\n",
    "    sql=statement_count_by_category_desc,\n",
    "    database=database_name\n",
    ")"
   ]
  },
  {
   "cell_type": "markdown",
   "metadata": {},
   "source": [
    "Store maximum number of sentiment for the visualization plot:"
   ]
  },
  {
   "cell_type": "code",
   "execution_count": 79,
   "metadata": {},
   "outputs": [
    {
     "name": "stdout",
     "output_type": "stream",
     "text": [
      "Highest number of reviews (in a single category): 6145\n"
     ]
    }
   ],
   "source": [
    "max_sentiment = df_count_by_category_desc['count_reviews'].max()\n",
    "print('Highest number of reviews (in a single category): {}'.format(max_sentiment))"
   ]
  },
  {
   "cell_type": "markdown",
   "metadata": {},
   "source": [
    "**Visualization**"
   ]
  },
  {
   "cell_type": "markdown",
   "metadata": {},
   "source": [
    "<a name='c1w1-ex-4'></a>\n",
    "### Exercise 4\n",
    "\n",
    "Use `barplot` function to plot number of reviews per product category.\n",
    "\n",
    "**Instructions**: Use the `barplot` chart example in the previous section, passing the newly defined dataframe `df_count_by_category_desc` with the count of reviews. Here, please put the `product_category` column into the `y` argument."
   ]
  },
  {
   "cell_type": "code",
   "execution_count": 80,
   "metadata": {},
   "outputs": [
    {
     "data": {
      "image/png": "[encoded data removed]",
      "text/plain": [
       "<Figure size 1080x720 with 1 Axes>"
      ]
     },
     "metadata": {
      "image/png": {
       "height": 706,
       "width": 1067
      }
     },
     "output_type": "display_data"
    }
   ],
   "source": [
    "# Create seaborn barplot\n",
    "barplot = sns.barplot(\n",
    "    ### BEGIN SOLUTION - DO NOT delete this comment for grading purposes\n",
    "    data= df_count_by_category_desc, # Replace None\n",
    "    y= 'product_category', # Replace None\n",
    "    x= 'count_reviews', # Replace None\n",
    "    ### END SOLUTION - DO NOT delete this comment for grading purposes\n",
    "    color=\"teal\",\n",
    "    saturation=1\n",
    ")\n",
    "\n",
    "# Set the size of the figure\n",
    "sns.set(rc={'figure.figsize':(15.0, 10.0)})\n",
    "    \n",
    "# Set title\n",
    "plt.title(\"Number of reviews per product category\")\n",
    "plt.xlabel(\"Number of reviews\")\n",
    "plt.ylabel(\"Product category\")\n",
    "\n",
    "plt.tight_layout()\n",
    "\n",
    "# Do not change the figure name - it is used for grading purposes!\n",
    "plt.savefig('num_reviews_per_category.png', dpi=300)\n",
    "\n",
    "# Show the barplot\n",
    "plt.show(barplot)"
   ]
  },
  {
   "cell_type": "code",
   "execution_count": 81,
   "metadata": {},
   "outputs": [
    {
     "data": {
      "text/plain": [
       "'s3://sagemaker-us-east-1-428602883579/images/num_reviews_per_category.png'"
      ]
     },
     "execution_count": 81,
     "metadata": {},
     "output_type": "execute_result"
    }
   ],
   "source": [
    "# Upload image to S3 bucket\n",
    "sess.upload_data(path='num_reviews_per_category.png', bucket=bucket, key_prefix=\"images\")"
   ]
  },
  {
   "cell_type": "markdown",
   "metadata": {},
   "source": [
    "<a name='c1w1-3.5.'></a>\n",
    "### 3.5. What is the breakdown of sentiments per product category?"
   ]
  },
  {
   "cell_type": "markdown",
   "metadata": {},
   "source": [
    "Set the SQL statement to find the count of sentiment per product category and sentiment:"
   ]
  },
  {
   "cell_type": "code",
   "execution_count": 82,
   "metadata": {},
   "outputs": [
    {
     "name": "stdout",
     "output_type": "stream",
     "text": [
      "\n",
      "SELECT product_category,\n",
      "         sentiment,\n",
      "         COUNT(*) AS count_reviews\n",
      "FROM reviews\n",
      "GROUP BY  product_category, sentiment\n",
      "ORDER BY  product_category ASC, sentiment DESC, count_reviews\n",
      "\n"
     ]
    }
   ],
   "source": [
    "statement_count_by_category_and_sentiment = \"\"\"\n",
    "SELECT product_category,\n",
    "         sentiment,\n",
    "         COUNT(*) AS count_reviews\n",
    "FROM {}\n",
    "GROUP BY  product_category, sentiment\n",
    "ORDER BY  product_category ASC, sentiment DESC, count_reviews\n",
    "\"\"\".format(table_name)\n",
    "\n",
    "print(statement_count_by_category_and_sentiment)"
   ]
  },
  {
   "cell_type": "markdown",
   "metadata": {},
   "source": [
    "Query data in Amazon Athena database passing the prepared SQL statement:"
   ]
  },
  {
   "cell_type": "code",
   "execution_count": 83,
   "metadata": {},
   "outputs": [
    {
     "name": "stdout",
     "output_type": "stream",
     "text": [
      "CPU times: user 324 ms, sys: 11.1 ms, total: 335 ms\n",
      "Wall time: 3.34 s\n"
     ]
    }
   ],
   "source": [
    "%%time\n",
    "df_count_by_category_and_sentiment = wr.athena.read_sql_query(\n",
    "    sql=statement_count_by_category_and_sentiment,\n",
    "    database=database_name\n",
    ")"
   ]
  },
  {
   "cell_type": "markdown",
   "metadata": {},
   "source": [
    "Prepare for stacked percentage horizontal bar plot showing proportion of sentiments per product category."
   ]
  },
  {
   "cell_type": "code",
   "execution_count": 84,
   "metadata": {},
   "outputs": [
    {
     "name": "stdout",
     "output_type": "stream",
     "text": [
      "Total number of reviews: 22626\n"
     ]
    }
   ],
   "source": [
    "# Create grouped dataframes by category and by sentiment\n",
    "grouped_category = df_count_by_category_and_sentiment.groupby('product_category')\n",
    "grouped_star = df_count_by_category_and_sentiment.groupby('sentiment')\n",
    "\n",
    "# Create sum of sentiments per star sentiment\n",
    "df_sum = df_count_by_category_and_sentiment.groupby(['sentiment']).sum()\n",
    "\n",
    "# Calculate total number of sentiments\n",
    "total = df_sum['count_reviews'].sum()\n",
    "print('Total number of reviews: {}'.format(total))"
   ]
  },
  {
   "cell_type": "markdown",
   "metadata": {},
   "source": [
    "Create dictionary of product categories and array of star rating distribution per category."
   ]
  },
  {
   "cell_type": "code",
   "execution_count": 85,
   "metadata": {},
   "outputs": [],
   "source": [
    "distribution = {}\n",
    "count_reviews_per_star = []\n",
    "i=0\n",
    "\n",
    "for category, sentiments in grouped_category:\n",
    "    count_reviews_per_star = []\n",
    "    for star in sentiments['sentiment']:\n",
    "        count_reviews_per_star.append(sentiments.at[i, 'count_reviews'])\n",
    "        i=i+1;\n",
    "    distribution[category] = count_reviews_per_star"
   ]
  },
  {
   "cell_type": "markdown",
   "metadata": {},
   "source": [
    "Build array per star across all categories."
   ]
  },
  {
   "cell_type": "code",
   "execution_count": 86,
   "metadata": {},
   "outputs": [
    {
     "data": {
      "text/plain": [
       "{'Blouses': [2256, 384, 343],\n",
       " 'Dresses': [4634, 830, 681],\n",
       " 'Fine gauge': [837, 118, 104],\n",
       " 'Intimates': [117, 16, 14],\n",
       " 'Jackets': [550, 61, 72],\n",
       " 'Jeans': [909, 110, 85],\n",
       " 'Knits': [3523, 605, 498],\n",
       " 'Layering': [113, 9, 10],\n",
       " 'Legwear': [126, 16, 16],\n",
       " 'Lounge': [545, 78, 46],\n",
       " 'Outerwear': [254, 29, 36],\n",
       " 'Pants': [1074, 154, 122],\n",
       " 'Shorts': [240, 39, 25],\n",
       " 'Skirts': [714, 104, 85],\n",
       " 'Sleep': [175, 16, 23],\n",
       " 'Sweaters': [1036, 193, 151],\n",
       " 'Swim': [252, 42, 38],\n",
       " 'Trend': [78, 19, 21]}"
      ]
     },
     "execution_count": 86,
     "metadata": {},
     "output_type": "execute_result"
    }
   ],
   "source": [
    "distribution"
   ]
  },
  {
   "cell_type": "code",
   "execution_count": 87,
   "metadata": {},
   "outputs": [
    {
     "data": {
      "text/html": [
       "<div>\n",
       "<style scoped>\n",
       "    .dataframe tbody tr th:only-of-type {\n",
       "        vertical-align: middle;\n",
       "    }\n",
       "\n",
       "    .dataframe tbody tr th {\n",
       "        vertical-align: top;\n",
       "    }\n",
       "\n",
       "    .dataframe thead th {\n",
       "        text-align: right;\n",
       "    }\n",
       "</style>\n",
       "<table border=\"1\" class=\"dataframe\">\n",
       "  <thead>\n",
       "    <tr style=\"text-align: right;\">\n",
       "      <th></th>\n",
       "      <th>1</th>\n",
       "      <th>0</th>\n",
       "      <th>-1</th>\n",
       "    </tr>\n",
       "  </thead>\n",
       "  <tbody>\n",
       "    <tr>\n",
       "      <th>Blouses</th>\n",
       "      <td>75.628562</td>\n",
       "      <td>12.872947</td>\n",
       "      <td>11.498491</td>\n",
       "    </tr>\n",
       "    <tr>\n",
       "      <th>Dresses</th>\n",
       "      <td>75.410903</td>\n",
       "      <td>13.506916</td>\n",
       "      <td>11.082181</td>\n",
       "    </tr>\n",
       "    <tr>\n",
       "      <th>Fine gauge</th>\n",
       "      <td>79.036827</td>\n",
       "      <td>11.142587</td>\n",
       "      <td>9.820585</td>\n",
       "    </tr>\n",
       "    <tr>\n",
       "      <th>Intimates</th>\n",
       "      <td>79.591837</td>\n",
       "      <td>10.884354</td>\n",
       "      <td>9.523810</td>\n",
       "    </tr>\n",
       "    <tr>\n",
       "      <th>Jackets</th>\n",
       "      <td>80.527086</td>\n",
       "      <td>8.931186</td>\n",
       "      <td>10.541728</td>\n",
       "    </tr>\n",
       "    <tr>\n",
       "      <th>Jeans</th>\n",
       "      <td>82.336957</td>\n",
       "      <td>9.963768</td>\n",
       "      <td>7.699275</td>\n",
       "    </tr>\n",
       "    <tr>\n",
       "      <th>Knits</th>\n",
       "      <td>76.156507</td>\n",
       "      <td>13.078253</td>\n",
       "      <td>10.765240</td>\n",
       "    </tr>\n",
       "    <tr>\n",
       "      <th>Layering</th>\n",
       "      <td>85.606061</td>\n",
       "      <td>6.818182</td>\n",
       "      <td>7.575758</td>\n",
       "    </tr>\n",
       "    <tr>\n",
       "      <th>Legwear</th>\n",
       "      <td>79.746835</td>\n",
       "      <td>10.126582</td>\n",
       "      <td>10.126582</td>\n",
       "    </tr>\n",
       "    <tr>\n",
       "      <th>Lounge</th>\n",
       "      <td>81.464873</td>\n",
       "      <td>11.659193</td>\n",
       "      <td>6.875934</td>\n",
       "    </tr>\n",
       "    <tr>\n",
       "      <th>Outerwear</th>\n",
       "      <td>79.623824</td>\n",
       "      <td>9.090909</td>\n",
       "      <td>11.285266</td>\n",
       "    </tr>\n",
       "    <tr>\n",
       "      <th>Pants</th>\n",
       "      <td>79.555556</td>\n",
       "      <td>11.407407</td>\n",
       "      <td>9.037037</td>\n",
       "    </tr>\n",
       "    <tr>\n",
       "      <th>Shorts</th>\n",
       "      <td>78.947368</td>\n",
       "      <td>12.828947</td>\n",
       "      <td>8.223684</td>\n",
       "    </tr>\n",
       "    <tr>\n",
       "      <th>Skirts</th>\n",
       "      <td>79.069767</td>\n",
       "      <td>11.517165</td>\n",
       "      <td>9.413068</td>\n",
       "    </tr>\n",
       "    <tr>\n",
       "      <th>Sleep</th>\n",
       "      <td>81.775701</td>\n",
       "      <td>7.476636</td>\n",
       "      <td>10.747664</td>\n",
       "    </tr>\n",
       "    <tr>\n",
       "      <th>Sweaters</th>\n",
       "      <td>75.072464</td>\n",
       "      <td>13.985507</td>\n",
       "      <td>10.942029</td>\n",
       "    </tr>\n",
       "    <tr>\n",
       "      <th>Swim</th>\n",
       "      <td>75.903614</td>\n",
       "      <td>12.650602</td>\n",
       "      <td>11.445783</td>\n",
       "    </tr>\n",
       "    <tr>\n",
       "      <th>Trend</th>\n",
       "      <td>66.101695</td>\n",
       "      <td>16.101695</td>\n",
       "      <td>17.796610</td>\n",
       "    </tr>\n",
       "  </tbody>\n",
       "</table>\n",
       "</div>"
      ],
      "text/plain": [
       "                    1          0         -1\n",
       "Blouses     75.628562  12.872947  11.498491\n",
       "Dresses     75.410903  13.506916  11.082181\n",
       "Fine gauge  79.036827  11.142587   9.820585\n",
       "Intimates   79.591837  10.884354   9.523810\n",
       "Jackets     80.527086   8.931186  10.541728\n",
       "Jeans       82.336957   9.963768   7.699275\n",
       "Knits       76.156507  13.078253  10.765240\n",
       "Layering    85.606061   6.818182   7.575758\n",
       "Legwear     79.746835  10.126582  10.126582\n",
       "Lounge      81.464873  11.659193   6.875934\n",
       "Outerwear   79.623824   9.090909  11.285266\n",
       "Pants       79.555556  11.407407   9.037037\n",
       "Shorts      78.947368  12.828947   8.223684\n",
       "Skirts      79.069767  11.517165   9.413068\n",
       "Sleep       81.775701   7.476636  10.747664\n",
       "Sweaters    75.072464  13.985507  10.942029\n",
       "Swim        75.903614  12.650602  11.445783\n",
       "Trend       66.101695  16.101695  17.796610"
      ]
     },
     "execution_count": 87,
     "metadata": {},
     "output_type": "execute_result"
    }
   ],
   "source": [
    "df_distribution_pct = pd.DataFrame(distribution).transpose().apply(\n",
    "    lambda num_sentiments: num_sentiments/sum(num_sentiments)*100, axis=1\n",
    ")\n",
    "df_distribution_pct.columns=['1', '0', '-1']\n",
    "df_distribution_pct"
   ]
  },
  {
   "cell_type": "markdown",
   "metadata": {},
   "source": [
    "**Visualization**\n",
    "\n",
    "Plot the distributions of sentiments per product category."
   ]
  },
  {
   "cell_type": "code",
   "execution_count": 88,
   "metadata": {},
   "outputs": [
    {
     "data": {
      "text/plain": [
       "<Figure size 720x360 with 0 Axes>"
      ]
     },
     "metadata": {},
     "output_type": "display_data"
    },
    {
     "data": {
      "image/png": "[encoded data removed]",
      "text/plain": [
       "<Figure size 1080x720 with 1 Axes>"
      ]
     },
     "metadata": {
      "image/png": {
       "height": 708,
       "width": 1068
      }
     },
     "output_type": "display_data"
    }
   ],
   "source": [
    "categories = df_distribution_pct.index\n",
    "\n",
    "# Plot bars\n",
    "plt.figure(figsize=(10,5))\n",
    "\n",
    "df_distribution_pct.plot(kind=\"barh\", \n",
    "                         stacked=True, \n",
    "                         edgecolor='white',\n",
    "                         width=1.0,\n",
    "                         color=['green', \n",
    "                                'orange', \n",
    "                                'blue'])\n",
    "\n",
    "plt.title(\"Distribution of reviews per sentiment per category\", \n",
    "          fontsize='16')\n",
    "\n",
    "plt.legend(bbox_to_anchor=(1.04,1), \n",
    "           loc=\"upper left\",\n",
    "           labels=['Positive', \n",
    "                   'Neutral', \n",
    "                   'Negative'])\n",
    "\n",
    "plt.xlabel(\"% Breakdown of sentiments\", fontsize='14')\n",
    "plt.gca().invert_yaxis()\n",
    "plt.tight_layout()\n",
    "\n",
    "# Do not change the figure name - it is used for grading purposes!\n",
    "plt.savefig('distribution_sentiment_per_category.png', dpi=300)\n",
    "plt.show()"
   ]
  },
  {
   "cell_type": "code",
   "execution_count": 89,
   "metadata": {},
   "outputs": [
    {
     "data": {
      "text/plain": [
       "'s3://sagemaker-us-east-1-428602883579/images/distribution_sentiment_per_category.png'"
      ]
     },
     "execution_count": 89,
     "metadata": {},
     "output_type": "execute_result"
    }
   ],
   "source": [
    "# Upload image to S3 bucket\n",
    "sess.upload_data(path='distribution_sentiment_per_category.png', bucket=bucket, key_prefix=\"images\")"
   ]
  },
  {
   "cell_type": "markdown",
   "metadata": {},
   "source": [
    "<a name='c1w1-3.6.'></a>\n",
    "### 3.6. Analyze the distribution of review word counts"
   ]
  },
  {
   "cell_type": "markdown",
   "metadata": {},
   "source": [
    "Set the SQL statement to count the number of the words in each of the reviews:"
   ]
  },
  {
   "cell_type": "code",
   "execution_count": null,
   "metadata": {},
   "outputs": [],
   "source": [
    "statement_num_words = \"\"\"\n",
    "    SELECT CARDINALITY(SPLIT(review_body, ' ')) as num_words\n",
    "    FROM {}\n",
    "\"\"\".format(table_name)\n",
    "\n",
    "print(statement_num_words)"
   ]
  },
  {
   "cell_type": "markdown",
   "metadata": {},
   "source": [
    "Query data in Amazon Athena database passing the SQL statement:"
   ]
  },
  {
   "cell_type": "code",
   "execution_count": null,
   "metadata": {},
   "outputs": [],
   "source": [
    "%%time\n",
    "df_num_words = wr.athena.read_sql_query(\n",
    "    sql=statement_num_words,\n",
    "    database=database_name\n",
    ")"
   ]
  },
  {
   "cell_type": "markdown",
   "metadata": {},
   "source": [
    "Print out and analyse some descriptive statistics: "
   ]
  },
  {
   "cell_type": "code",
   "execution_count": null,
   "metadata": {},
   "outputs": [],
   "source": [
    "summary = df_num_words[\"num_words\"].describe(percentiles=[0.10, 0.20, 0.30, 0.40, 0.50, 0.60, 0.70, 0.80, 0.90, 1.00])\n",
    "summary"
   ]
  },
  {
   "cell_type": "markdown",
   "metadata": {},
   "source": [
    "Plot the distribution of the words number per review:"
   ]
  },
  {
   "cell_type": "code",
   "execution_count": null,
   "metadata": {},
   "outputs": [],
   "source": [
    "df_num_words[\"num_words\"].plot.hist(xticks=[0, 16, 32, 64, 128, 256], bins=100, range=[0, 256]).axvline(\n",
    "    x=summary[\"100%\"], c=\"red\"\n",
    ")\n",
    "\n",
    "plt.xlabel(\"Words number\", fontsize='14')\n",
    "plt.ylabel(\"Frequency\", fontsize='14')\n",
    "plt.savefig('distribution_num_words_per_review.png', dpi=300)\n",
    "plt.show()"
   ]
  },
  {
   "cell_type": "code",
   "execution_count": null,
   "metadata": {},
   "outputs": [],
   "source": [
    "# Upload image to S3 bucket\n",
    "sess.upload_data(path='distribution_num_words_per_review.png', bucket=bucket, key_prefix=\"images\")"
   ]
  },
  {
   "cell_type": "markdown",
   "metadata": {},
   "source": [
    "Upload the notebook into S3 bucket for grading purposes.\n",
    "\n",
    "**Note**: you may need to click on \"Save\" button before the upload."
   ]
  },
  {
   "cell_type": "code",
   "execution_count": null,
   "metadata": {},
   "outputs": [],
   "source": [
    "!aws s3 cp ./C1_W1_Assignment.ipynb s3://$bucket/C1_W1_Assignment_Learner.ipynb"
   ]
  },
  {
   "cell_type": "markdown",
   "metadata": {},
   "source": [
    "Please go to the main lab window and click on `Submit` button (see the `Finish the lab` section of the instructions)."
   ]
  },
  {
   "cell_type": "code",
   "execution_count": null,
   "metadata": {},
   "outputs": [],
   "source": []
  }
 ],
 "metadata": {
  "instance_type": "ml.t3.medium",
  "kernelspec": {
   "display_name": "Python 3 (Data Science)",
   "language": "python",
   "name": "python3__SAGEMAKER_INTERNAL__arn:aws:sagemaker:us-east-1:081325390199:image/datascience-1.0"
  },
  "language_info": {
   "codemirror_mode": {
    "name": "ipython",
    "version": 3
   },
   "file_extension": ".py",
   "mimetype": "text/x-python",
   "name": "python",
   "nbconvert_exporter": "python",
   "pygments_lexer": "ipython3",
   "version": "3.7.10"
  }
 },
 "nbformat": 4,
 "nbformat_minor": 4
}
